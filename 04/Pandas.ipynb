{
  "cells": [
    {
      "cell_type": "markdown",
      "metadata": {
        "id": "Wkty7NlnjCV-"
      },
      "source": [
        "# Pandas"
      ]
    },
    {
      "cell_type": "markdown",
      "metadata": {
        "id": "2gsEramal4Tg"
      },
      "source": [
        "Pandas je výkonná a všestranná knihovna pro jazyk Python, která se specializuje na zpracování a analýzu dat. Je široce používaná v oblasti datové vědy, strojového učení a statistiky kvůli své schopnosti efektivně pracovat s daty ve formě tabulek.\n",
        "\n",
        "Název pochází z termínu \"Panel Data\", což je ekonomický termín pro multidimenzionální struktury dat."
      ]
    },
    {
      "cell_type": "markdown",
      "metadata": {
        "id": "TTqGmf0gjHvn"
      },
      "source": [
        "## Stručná úvodní ukázka"
      ]
    },
    {
      "cell_type": "code",
      "execution_count": 2,
      "metadata": {
        "id": "_Jv7osSzmNCL"
      },
      "outputs": [],
      "source": [
        "# import knihovny pandas a nastavení běžně používaného aliasu\n",
        "import pandas as pd"
      ]
    },
    {
      "cell_type": "code",
      "execution_count": 3,
      "metadata": {
        "id": "qlsV96LKmNFC"
      },
      "outputs": [],
      "source": [
        "# vytvoření jednoduchého ukázkového datasetu\n",
        "# praktická pozn.: dataset se takto v praxi většinou nevytváří, k tomu slouží zdroje z csv a jiných souborů, zdroje dat z SQL, API apod.\n",
        "data_ukazka = {\n",
        "    'Jméno': ['Anna', 'Petr', 'Eva', 'Tomáš', 'Jiří', 'Karel', 'Ivan', 'Květa'],\n",
        "    'Věk': [28, 35, 22, 30, 23, 45, 31, 43],\n",
        "    'Plat': [50000, 52000, 48000, 51000, 38500, 23000, 53500, 59000]\n",
        "}"
      ]
    },
    {
      "cell_type": "code",
      "execution_count": 4,
      "metadata": {
        "id": "F-vMnf2pmNIN"
      },
      "outputs": [],
      "source": [
        "# vytvoření DataFrame z ukázkového datasetu a uložení do proměnné\n",
        "df_ukazka = pd.DataFrame(data_ukazka)"
      ]
    },
    {
      "cell_type": "code",
      "execution_count": 5,
      "metadata": {
        "id": "eulR5r6bnAzK"
      },
      "outputs": [
        {
          "data": {
            "text/html": [
              "<div>\n",
              "<style scoped>\n",
              "    .dataframe tbody tr th:only-of-type {\n",
              "        vertical-align: middle;\n",
              "    }\n",
              "\n",
              "    .dataframe tbody tr th {\n",
              "        vertical-align: top;\n",
              "    }\n",
              "\n",
              "    .dataframe thead th {\n",
              "        text-align: right;\n",
              "    }\n",
              "</style>\n",
              "<table border=\"1\" class=\"dataframe\">\n",
              "  <thead>\n",
              "    <tr style=\"text-align: right;\">\n",
              "      <th></th>\n",
              "      <th>Jméno</th>\n",
              "      <th>Věk</th>\n",
              "      <th>Plat</th>\n",
              "    </tr>\n",
              "  </thead>\n",
              "  <tbody>\n",
              "    <tr>\n",
              "      <th>0</th>\n",
              "      <td>Anna</td>\n",
              "      <td>28</td>\n",
              "      <td>50000</td>\n",
              "    </tr>\n",
              "    <tr>\n",
              "      <th>1</th>\n",
              "      <td>Petr</td>\n",
              "      <td>35</td>\n",
              "      <td>52000</td>\n",
              "    </tr>\n",
              "    <tr>\n",
              "      <th>2</th>\n",
              "      <td>Eva</td>\n",
              "      <td>22</td>\n",
              "      <td>48000</td>\n",
              "    </tr>\n",
              "    <tr>\n",
              "      <th>3</th>\n",
              "      <td>Tomáš</td>\n",
              "      <td>30</td>\n",
              "      <td>51000</td>\n",
              "    </tr>\n",
              "    <tr>\n",
              "      <th>4</th>\n",
              "      <td>Jiří</td>\n",
              "      <td>23</td>\n",
              "      <td>38500</td>\n",
              "    </tr>\n",
              "  </tbody>\n",
              "</table>\n",
              "</div>"
            ],
            "text/plain": [
              "   Jméno  Věk   Plat\n",
              "0   Anna   28  50000\n",
              "1   Petr   35  52000\n",
              "2    Eva   22  48000\n",
              "3  Tomáš   30  51000\n",
              "4   Jiří   23  38500"
            ]
          },
          "execution_count": 5,
          "metadata": {},
          "output_type": "execute_result"
        }
      ],
      "source": [
        "# zobrazení prvních záznamů z dataframu (pokud nezadáme číslo jako parametr, zobrazí se 5 prvních záznamů)\n",
        "df_ukazka.head()"
      ]
    },
    {
      "cell_type": "code",
      "execution_count": 6,
      "metadata": {
        "id": "DV678oNnn9_W"
      },
      "outputs": [
        {
          "name": "stdout",
          "output_type": "stream",
          "text": [
            "<class 'pandas.core.frame.DataFrame'>\n",
            "RangeIndex: 8 entries, 0 to 7\n",
            "Data columns (total 3 columns):\n",
            " #   Column  Non-Null Count  Dtype \n",
            "---  ------  --------------  ----- \n",
            " 0   Jméno   8 non-null      object\n",
            " 1   Věk     8 non-null      int64 \n",
            " 2   Plat    8 non-null      int64 \n",
            "dtypes: int64(2), object(1)\n",
            "memory usage: 320.0+ bytes\n"
          ]
        }
      ],
      "source": [
        "# získání informací o dataframu a jeho sloupcích\n",
        "df_ukazka.info()"
      ]
    },
    {
      "cell_type": "code",
      "execution_count": 7,
      "metadata": {
        "id": "OwVy2zyEoP7t"
      },
      "outputs": [
        {
          "data": {
            "text/html": [
              "<div>\n",
              "<style scoped>\n",
              "    .dataframe tbody tr th:only-of-type {\n",
              "        vertical-align: middle;\n",
              "    }\n",
              "\n",
              "    .dataframe tbody tr th {\n",
              "        vertical-align: top;\n",
              "    }\n",
              "\n",
              "    .dataframe thead th {\n",
              "        text-align: right;\n",
              "    }\n",
              "</style>\n",
              "<table border=\"1\" class=\"dataframe\">\n",
              "  <thead>\n",
              "    <tr style=\"text-align: right;\">\n",
              "      <th></th>\n",
              "      <th>Jméno</th>\n",
              "      <th>Věk</th>\n",
              "      <th>Plat</th>\n",
              "    </tr>\n",
              "  </thead>\n",
              "  <tbody>\n",
              "    <tr>\n",
              "      <th>1</th>\n",
              "      <td>Petr</td>\n",
              "      <td>35</td>\n",
              "      <td>52000</td>\n",
              "    </tr>\n",
              "    <tr>\n",
              "      <th>5</th>\n",
              "      <td>Karel</td>\n",
              "      <td>45</td>\n",
              "      <td>23000</td>\n",
              "    </tr>\n",
              "    <tr>\n",
              "      <th>7</th>\n",
              "      <td>Květa</td>\n",
              "      <td>43</td>\n",
              "      <td>59000</td>\n",
              "    </tr>\n",
              "  </tbody>\n",
              "</table>\n",
              "</div>"
            ],
            "text/plain": [
              "   Jméno  Věk   Plat\n",
              "1   Petr   35  52000\n",
              "5  Karel   45  23000\n",
              "7  Květa   43  59000"
            ]
          },
          "execution_count": 7,
          "metadata": {},
          "output_type": "execute_result"
        }
      ],
      "source": [
        "# filtrování zaměstnanců podle věku\n",
        "df_ukazka[df_ukazka['Věk'] > 33]"
      ]
    },
    {
      "cell_type": "markdown",
      "metadata": {
        "id": "sKJmK1hXjrjZ"
      },
      "source": [
        "## Objekty a datové typy"
      ]
    },
    {
      "cell_type": "markdown",
      "metadata": {
        "id": "-n3_871hj2Vs"
      },
      "source": [
        "### Objekty"
      ]
    },
    {
      "cell_type": "markdown",
      "metadata": {
        "id": "DgzA76TUj6_X"
      },
      "source": [
        "- **Series**: Jednorozměrné pole podobné seznamu.\n",
        "- **DataFrame**: Dvourozměrná tabulka (podobná Excelu) s řádky a sloupci."
      ]
    },
    {
      "cell_type": "markdown",
      "metadata": {
        "id": "2eUlbkmmouTz"
      },
      "source": [
        "### Datové typy"
      ]
    },
    {
      "cell_type": "markdown",
      "metadata": {
        "id": "x2LOIDOmpC3P"
      },
      "source": [
        "Pandas používá datové typy na základě knihovny NumPy, které rozšiřuje o některé specifické datové typy:\n",
        "\n",
        "| Datový typ       | Popis                                                   |\n",
        "|------------------|---------------------------------------------------------|\n",
        "| `int64`          | celočíselné hodnoty (např. 1, 100, -5).                 |\n",
        "| `float64`        | Desetinná čísla (např. 3.14, -0.01).                    |\n",
        "| `bool`           | Logické hodnoty (True / False).                         |\n",
        "| `object`         |  Obecný typ (obvykle pro řetězce nebo smíšená data).    |\n",
        "| `string`         | Specifický typ pro textová data (od pandas 1.0).        |\n",
        "| `datetime64[ns]` | Datum a čas (např. '2023-11-20 12:00:00').              |\n",
        "| `timedelta[ns]`  | Rozdíl mezi dvěma datovými body (časový rozdíl).        |\n",
        "| `category`       | Optimalizovaný typ pro opakující se kategorie.          |\n"
      ]
    },
    {
      "cell_type": "markdown",
      "metadata": {
        "id": "p5Oc2ZS3kH00"
      },
      "source": [
        "## Načítání a ukládání dat"
      ]
    },
    {
      "cell_type": "markdown",
      "metadata": {
        "id": "CQaB6PJzkNB2"
      },
      "source": [
        "- Podpora formátů: CSV, Excel, SQL, JSON, HTML, HDF5, atd.\n",
        "- Funkce:\n",
        " - pd.read_csv(), pd.to_csv()\n",
        " - pd.read_excel(), pd.to_excel()"
      ]
    },
    {
      "cell_type": "code",
      "execution_count": 8,
      "metadata": {
        "collapsed": true,
        "id": "ElHLOCtE8BdW"
      },
      "outputs": [],
      "source": [
        "import pandas as pd\n",
        "\n",
        "df_people = pd.read_csv('zamestnanci.csv', sep=';')\n"
      ]
    },
    {
      "cell_type": "markdown",
      "metadata": {
        "id": "itSshhZRWBMN"
      },
      "source": [
        " ## Prohlízení dat a informací"
      ]
    },
    {
      "cell_type": "markdown",
      "metadata": {
        "id": "-eg9wLDVWU4j"
      },
      "source": [
        "### Samotná data"
      ]
    },
    {
      "cell_type": "markdown",
      "metadata": {
        "id": "C5nw6TB9WbOF"
      },
      "source": [
        " -  celé řádky dataframu od začátku"
      ]
    },
    {
      "cell_type": "code",
      "execution_count": 9,
      "metadata": {
        "id": "fP3H2QAqWayx"
      },
      "outputs": [
        {
          "data": {
            "text/html": [
              "<div>\n",
              "<style scoped>\n",
              "    .dataframe tbody tr th:only-of-type {\n",
              "        vertical-align: middle;\n",
              "    }\n",
              "\n",
              "    .dataframe tbody tr th {\n",
              "        vertical-align: top;\n",
              "    }\n",
              "\n",
              "    .dataframe thead th {\n",
              "        text-align: right;\n",
              "    }\n",
              "</style>\n",
              "<table border=\"1\" class=\"dataframe\">\n",
              "  <thead>\n",
              "    <tr style=\"text-align: right;\">\n",
              "      <th></th>\n",
              "      <th>PersonalId</th>\n",
              "      <th>Name</th>\n",
              "      <th>Age</th>\n",
              "      <th>City</th>\n",
              "      <th>Salary</th>\n",
              "      <th>Active</th>\n",
              "    </tr>\n",
              "  </thead>\n",
              "  <tbody>\n",
              "    <tr>\n",
              "      <th>0</th>\n",
              "      <td>1</td>\n",
              "      <td>Anna</td>\n",
              "      <td>28</td>\n",
              "      <td>Prague</td>\n",
              "      <td>50000.0</td>\n",
              "      <td>True</td>\n",
              "    </tr>\n",
              "    <tr>\n",
              "      <th>1</th>\n",
              "      <td>2</td>\n",
              "      <td>Petr</td>\n",
              "      <td>35</td>\n",
              "      <td>Brno</td>\n",
              "      <td>62000.0</td>\n",
              "      <td>True</td>\n",
              "    </tr>\n",
              "    <tr>\n",
              "      <th>2</th>\n",
              "      <td>3</td>\n",
              "      <td>Eva</td>\n",
              "      <td>22</td>\n",
              "      <td>Ostrava</td>\n",
              "      <td>45000.0</td>\n",
              "      <td>True</td>\n",
              "    </tr>\n",
              "    <tr>\n",
              "      <th>3</th>\n",
              "      <td>4</td>\n",
              "      <td>Tomáš</td>\n",
              "      <td>30</td>\n",
              "      <td>Plzeň</td>\n",
              "      <td>52000.0</td>\n",
              "      <td>True</td>\n",
              "    </tr>\n",
              "    <tr>\n",
              "      <th>4</th>\n",
              "      <td>5</td>\n",
              "      <td>Jana</td>\n",
              "      <td>27</td>\n",
              "      <td>Liberec</td>\n",
              "      <td>48000.0</td>\n",
              "      <td>True</td>\n",
              "    </tr>\n",
              "  </tbody>\n",
              "</table>\n",
              "</div>"
            ],
            "text/plain": [
              "   PersonalId   Name  Age     City   Salary Active\n",
              "0           1   Anna   28   Prague  50000.0   True\n",
              "1           2   Petr   35     Brno  62000.0   True\n",
              "2           3    Eva   22  Ostrava  45000.0   True\n",
              "3           4  Tomáš   30    Plzeň  52000.0   True\n",
              "4           5   Jana   27  Liberec  48000.0   True"
            ]
          },
          "execution_count": 9,
          "metadata": {},
          "output_type": "execute_result"
        }
      ],
      "source": [
        "df_people.head() # Defaultně zobrazí prvních 5 řádků"
      ]
    },
    {
      "cell_type": "code",
      "execution_count": 10,
      "metadata": {
        "id": "7dIsDTRCWvSM"
      },
      "outputs": [
        {
          "data": {
            "text/html": [
              "<div>\n",
              "<style scoped>\n",
              "    .dataframe tbody tr th:only-of-type {\n",
              "        vertical-align: middle;\n",
              "    }\n",
              "\n",
              "    .dataframe tbody tr th {\n",
              "        vertical-align: top;\n",
              "    }\n",
              "\n",
              "    .dataframe thead th {\n",
              "        text-align: right;\n",
              "    }\n",
              "</style>\n",
              "<table border=\"1\" class=\"dataframe\">\n",
              "  <thead>\n",
              "    <tr style=\"text-align: right;\">\n",
              "      <th></th>\n",
              "      <th>PersonalId</th>\n",
              "      <th>Name</th>\n",
              "      <th>Age</th>\n",
              "      <th>City</th>\n",
              "      <th>Salary</th>\n",
              "      <th>Active</th>\n",
              "    </tr>\n",
              "  </thead>\n",
              "  <tbody>\n",
              "    <tr>\n",
              "      <th>0</th>\n",
              "      <td>1</td>\n",
              "      <td>Anna</td>\n",
              "      <td>28</td>\n",
              "      <td>Prague</td>\n",
              "      <td>50000.0</td>\n",
              "      <td>True</td>\n",
              "    </tr>\n",
              "    <tr>\n",
              "      <th>1</th>\n",
              "      <td>2</td>\n",
              "      <td>Petr</td>\n",
              "      <td>35</td>\n",
              "      <td>Brno</td>\n",
              "      <td>62000.0</td>\n",
              "      <td>True</td>\n",
              "    </tr>\n",
              "    <tr>\n",
              "      <th>2</th>\n",
              "      <td>3</td>\n",
              "      <td>Eva</td>\n",
              "      <td>22</td>\n",
              "      <td>Ostrava</td>\n",
              "      <td>45000.0</td>\n",
              "      <td>True</td>\n",
              "    </tr>\n",
              "    <tr>\n",
              "      <th>3</th>\n",
              "      <td>4</td>\n",
              "      <td>Tomáš</td>\n",
              "      <td>30</td>\n",
              "      <td>Plzeň</td>\n",
              "      <td>52000.0</td>\n",
              "      <td>True</td>\n",
              "    </tr>\n",
              "    <tr>\n",
              "      <th>4</th>\n",
              "      <td>5</td>\n",
              "      <td>Jana</td>\n",
              "      <td>27</td>\n",
              "      <td>Liberec</td>\n",
              "      <td>48000.0</td>\n",
              "      <td>True</td>\n",
              "    </tr>\n",
              "    <tr>\n",
              "      <th>5</th>\n",
              "      <td>6</td>\n",
              "      <td>Karel</td>\n",
              "      <td>33</td>\n",
              "      <td>Prague</td>\n",
              "      <td>55000.0</td>\n",
              "      <td>True</td>\n",
              "    </tr>\n",
              "    <tr>\n",
              "      <th>6</th>\n",
              "      <td>7</td>\n",
              "      <td>Markéta</td>\n",
              "      <td>26</td>\n",
              "      <td>Brno</td>\n",
              "      <td>49000.0</td>\n",
              "      <td>True</td>\n",
              "    </tr>\n",
              "    <tr>\n",
              "      <th>7</th>\n",
              "      <td>8</td>\n",
              "      <td>Lukáš</td>\n",
              "      <td>40</td>\n",
              "      <td>Ostrava</td>\n",
              "      <td>71000.0</td>\n",
              "      <td>NaN</td>\n",
              "    </tr>\n",
              "    <tr>\n",
              "      <th>8</th>\n",
              "      <td>9</td>\n",
              "      <td>Michaela</td>\n",
              "      <td>24</td>\n",
              "      <td>Liberec</td>\n",
              "      <td>47000.0</td>\n",
              "      <td>True</td>\n",
              "    </tr>\n",
              "    <tr>\n",
              "      <th>9</th>\n",
              "      <td>10</td>\n",
              "      <td>Jiří</td>\n",
              "      <td>29</td>\n",
              "      <td>Prague</td>\n",
              "      <td>53000.0</td>\n",
              "      <td>True</td>\n",
              "    </tr>\n",
              "  </tbody>\n",
              "</table>\n",
              "</div>"
            ],
            "text/plain": [
              "   PersonalId      Name  Age     City   Salary Active\n",
              "0           1      Anna   28   Prague  50000.0   True\n",
              "1           2      Petr   35     Brno  62000.0   True\n",
              "2           3       Eva   22  Ostrava  45000.0   True\n",
              "3           4     Tomáš   30    Plzeň  52000.0   True\n",
              "4           5      Jana   27  Liberec  48000.0   True\n",
              "5           6     Karel   33   Prague  55000.0   True\n",
              "6           7   Markéta   26     Brno  49000.0   True\n",
              "7           8     Lukáš   40  Ostrava  71000.0    NaN\n",
              "8           9  Michaela   24  Liberec  47000.0   True\n",
              "9          10      Jiří   29   Prague  53000.0   True"
            ]
          },
          "execution_count": 10,
          "metadata": {},
          "output_type": "execute_result"
        }
      ],
      "source": [
        "df_people.head(10)  # Zobrazí prvních 10 řádků"
      ]
    },
    {
      "cell_type": "markdown",
      "metadata": {
        "id": "5DpJS2sUW7cv"
      },
      "source": [
        "- celé řádky dataframu od konce"
      ]
    },
    {
      "cell_type": "code",
      "execution_count": 11,
      "metadata": {
        "id": "-FpkOItOW68M"
      },
      "outputs": [
        {
          "data": {
            "text/html": [
              "<div>\n",
              "<style scoped>\n",
              "    .dataframe tbody tr th:only-of-type {\n",
              "        vertical-align: middle;\n",
              "    }\n",
              "\n",
              "    .dataframe tbody tr th {\n",
              "        vertical-align: top;\n",
              "    }\n",
              "\n",
              "    .dataframe thead th {\n",
              "        text-align: right;\n",
              "    }\n",
              "</style>\n",
              "<table border=\"1\" class=\"dataframe\">\n",
              "  <thead>\n",
              "    <tr style=\"text-align: right;\">\n",
              "      <th></th>\n",
              "      <th>PersonalId</th>\n",
              "      <th>Name</th>\n",
              "      <th>Age</th>\n",
              "      <th>City</th>\n",
              "      <th>Salary</th>\n",
              "      <th>Active</th>\n",
              "    </tr>\n",
              "  </thead>\n",
              "  <tbody>\n",
              "    <tr>\n",
              "      <th>87</th>\n",
              "      <td>88</td>\n",
              "      <td>Ema</td>\n",
              "      <td>24</td>\n",
              "      <td>Ostrava</td>\n",
              "      <td>44000.0</td>\n",
              "      <td>True</td>\n",
              "    </tr>\n",
              "    <tr>\n",
              "      <th>88</th>\n",
              "      <td>89</td>\n",
              "      <td>Oleg</td>\n",
              "      <td>30</td>\n",
              "      <td>Brno</td>\n",
              "      <td>52000.0</td>\n",
              "      <td>True</td>\n",
              "    </tr>\n",
              "    <tr>\n",
              "      <th>89</th>\n",
              "      <td>90</td>\n",
              "      <td>Vanda</td>\n",
              "      <td>33</td>\n",
              "      <td>Prague</td>\n",
              "      <td>57000.0</td>\n",
              "      <td>True</td>\n",
              "    </tr>\n",
              "    <tr>\n",
              "      <th>90</th>\n",
              "      <td>91</td>\n",
              "      <td>Jindřich</td>\n",
              "      <td>41</td>\n",
              "      <td>Plzeň</td>\n",
              "      <td>71000.0</td>\n",
              "      <td>True</td>\n",
              "    </tr>\n",
              "    <tr>\n",
              "      <th>91</th>\n",
              "      <td>92</td>\n",
              "      <td>Pavla</td>\n",
              "      <td>37</td>\n",
              "      <td>Prague</td>\n",
              "      <td>54000.0</td>\n",
              "      <td>NaN</td>\n",
              "    </tr>\n",
              "  </tbody>\n",
              "</table>\n",
              "</div>"
            ],
            "text/plain": [
              "    PersonalId      Name  Age     City   Salary Active\n",
              "87          88       Ema   24  Ostrava  44000.0   True\n",
              "88          89      Oleg   30     Brno  52000.0   True\n",
              "89          90     Vanda   33   Prague  57000.0   True\n",
              "90          91  Jindřich   41    Plzeň  71000.0   True\n",
              "91          92     Pavla   37   Prague  54000.0    NaN"
            ]
          },
          "execution_count": 11,
          "metadata": {},
          "output_type": "execute_result"
        }
      ],
      "source": [
        "df_people.tail()  # Defaultně zobrazí posledních 5 řádků"
      ]
    },
    {
      "cell_type": "code",
      "execution_count": 12,
      "metadata": {
        "id": "uDZnmGs4XDAU"
      },
      "outputs": [
        {
          "data": {
            "text/html": [
              "<div>\n",
              "<style scoped>\n",
              "    .dataframe tbody tr th:only-of-type {\n",
              "        vertical-align: middle;\n",
              "    }\n",
              "\n",
              "    .dataframe tbody tr th {\n",
              "        vertical-align: top;\n",
              "    }\n",
              "\n",
              "    .dataframe thead th {\n",
              "        text-align: right;\n",
              "    }\n",
              "</style>\n",
              "<table border=\"1\" class=\"dataframe\">\n",
              "  <thead>\n",
              "    <tr style=\"text-align: right;\">\n",
              "      <th></th>\n",
              "      <th>PersonalId</th>\n",
              "      <th>Name</th>\n",
              "      <th>Age</th>\n",
              "      <th>City</th>\n",
              "      <th>Salary</th>\n",
              "      <th>Active</th>\n",
              "    </tr>\n",
              "  </thead>\n",
              "  <tbody>\n",
              "    <tr>\n",
              "      <th>84</th>\n",
              "      <td>85</td>\n",
              "      <td>Patrik</td>\n",
              "      <td>36</td>\n",
              "      <td>Plzeň</td>\n",
              "      <td>63000.0</td>\n",
              "      <td>True</td>\n",
              "    </tr>\n",
              "    <tr>\n",
              "      <th>85</th>\n",
              "      <td>86</td>\n",
              "      <td>Erik</td>\n",
              "      <td>25</td>\n",
              "      <td>Prague</td>\n",
              "      <td>40000.0</td>\n",
              "      <td>True</td>\n",
              "    </tr>\n",
              "    <tr>\n",
              "      <th>86</th>\n",
              "      <td>87</td>\n",
              "      <td>Johana</td>\n",
              "      <td>28</td>\n",
              "      <td>Liberec</td>\n",
              "      <td>46000.0</td>\n",
              "      <td>True</td>\n",
              "    </tr>\n",
              "    <tr>\n",
              "      <th>87</th>\n",
              "      <td>88</td>\n",
              "      <td>Ema</td>\n",
              "      <td>24</td>\n",
              "      <td>Ostrava</td>\n",
              "      <td>44000.0</td>\n",
              "      <td>True</td>\n",
              "    </tr>\n",
              "    <tr>\n",
              "      <th>88</th>\n",
              "      <td>89</td>\n",
              "      <td>Oleg</td>\n",
              "      <td>30</td>\n",
              "      <td>Brno</td>\n",
              "      <td>52000.0</td>\n",
              "      <td>True</td>\n",
              "    </tr>\n",
              "    <tr>\n",
              "      <th>89</th>\n",
              "      <td>90</td>\n",
              "      <td>Vanda</td>\n",
              "      <td>33</td>\n",
              "      <td>Prague</td>\n",
              "      <td>57000.0</td>\n",
              "      <td>True</td>\n",
              "    </tr>\n",
              "    <tr>\n",
              "      <th>90</th>\n",
              "      <td>91</td>\n",
              "      <td>Jindřich</td>\n",
              "      <td>41</td>\n",
              "      <td>Plzeň</td>\n",
              "      <td>71000.0</td>\n",
              "      <td>True</td>\n",
              "    </tr>\n",
              "    <tr>\n",
              "      <th>91</th>\n",
              "      <td>92</td>\n",
              "      <td>Pavla</td>\n",
              "      <td>37</td>\n",
              "      <td>Prague</td>\n",
              "      <td>54000.0</td>\n",
              "      <td>NaN</td>\n",
              "    </tr>\n",
              "  </tbody>\n",
              "</table>\n",
              "</div>"
            ],
            "text/plain": [
              "    PersonalId      Name  Age     City   Salary Active\n",
              "84          85    Patrik   36    Plzeň  63000.0   True\n",
              "85          86      Erik   25   Prague  40000.0   True\n",
              "86          87    Johana   28  Liberec  46000.0   True\n",
              "87          88       Ema   24  Ostrava  44000.0   True\n",
              "88          89      Oleg   30     Brno  52000.0   True\n",
              "89          90     Vanda   33   Prague  57000.0   True\n",
              "90          91  Jindřich   41    Plzeň  71000.0   True\n",
              "91          92     Pavla   37   Prague  54000.0    NaN"
            ]
          },
          "execution_count": 12,
          "metadata": {},
          "output_type": "execute_result"
        }
      ],
      "source": [
        "df_people.tail(8)  # Zobrazí posledních 8 řádků"
      ]
    },
    {
      "cell_type": "markdown",
      "metadata": {
        "id": "CvlRfINvc0FG"
      },
      "source": [
        " - náhodné řádky z tabulky"
      ]
    },
    {
      "cell_type": "code",
      "execution_count": 60,
      "metadata": {
        "id": "DdoF_r48cz5w"
      },
      "outputs": [
        {
          "data": {
            "text/html": [
              "<div>\n",
              "<style scoped>\n",
              "    .dataframe tbody tr th:only-of-type {\n",
              "        vertical-align: middle;\n",
              "    }\n",
              "\n",
              "    .dataframe tbody tr th {\n",
              "        vertical-align: top;\n",
              "    }\n",
              "\n",
              "    .dataframe thead th {\n",
              "        text-align: right;\n",
              "    }\n",
              "</style>\n",
              "<table border=\"1\" class=\"dataframe\">\n",
              "  <thead>\n",
              "    <tr style=\"text-align: right;\">\n",
              "      <th></th>\n",
              "      <th>PersonalId</th>\n",
              "      <th>Name</th>\n",
              "      <th>Age</th>\n",
              "      <th>City</th>\n",
              "      <th>Salary</th>\n",
              "      <th>Active</th>\n",
              "    </tr>\n",
              "  </thead>\n",
              "  <tbody>\n",
              "    <tr>\n",
              "      <th>23</th>\n",
              "      <td>24</td>\n",
              "      <td>Dominik</td>\n",
              "      <td>26</td>\n",
              "      <td>Ostrava</td>\n",
              "      <td>44000.0</td>\n",
              "      <td>True</td>\n",
              "    </tr>\n",
              "  </tbody>\n",
              "</table>\n",
              "</div>"
            ],
            "text/plain": [
              "    PersonalId     Name  Age     City   Salary Active\n",
              "23          24  Dominik   26  Ostrava  44000.0   True"
            ]
          },
          "execution_count": 60,
          "metadata": {},
          "output_type": "execute_result"
        }
      ],
      "source": [
        "df_people.sample() # Defaultně zobrazí 1 náhodný řádek"
      ]
    },
    {
      "cell_type": "code",
      "execution_count": null,
      "metadata": {
        "id": "iIvkwErdc83D"
      },
      "outputs": [],
      "source": [
        "df_people.sample(10) # Zobrazí 10 náhodných řádků"
      ]
    },
    {
      "cell_type": "markdown",
      "metadata": {
        "id": "vxA1xqPXauCr"
      },
      "source": [
        " - výběr konkrétního sloupce"
      ]
    },
    {
      "cell_type": "code",
      "execution_count": 61,
      "metadata": {
        "id": "u34yTZvJa34A"
      },
      "outputs": [
        {
          "data": {
            "text/plain": [
              "0         Anna\n",
              "1         Petr\n",
              "2          Eva\n",
              "3        Tomáš\n",
              "4         Jana\n",
              "        ...   \n",
              "87         Ema\n",
              "88        Oleg\n",
              "89       Vanda\n",
              "90    Jindřich\n",
              "91       Pavla\n",
              "Name: Name, Length: 92, dtype: object"
            ]
          },
          "execution_count": 61,
          "metadata": {},
          "output_type": "execute_result"
        }
      ],
      "source": [
        "df_people['Name']"
      ]
    },
    {
      "cell_type": "markdown",
      "metadata": {
        "id": "V64k76FLa8ch"
      },
      "source": [
        " - výběr více sloupců"
      ]
    },
    {
      "cell_type": "code",
      "execution_count": 62,
      "metadata": {
        "id": "AOo1YREha80i"
      },
      "outputs": [
        {
          "data": {
            "text/html": [
              "<div>\n",
              "<style scoped>\n",
              "    .dataframe tbody tr th:only-of-type {\n",
              "        vertical-align: middle;\n",
              "    }\n",
              "\n",
              "    .dataframe tbody tr th {\n",
              "        vertical-align: top;\n",
              "    }\n",
              "\n",
              "    .dataframe thead th {\n",
              "        text-align: right;\n",
              "    }\n",
              "</style>\n",
              "<table border=\"1\" class=\"dataframe\">\n",
              "  <thead>\n",
              "    <tr style=\"text-align: right;\">\n",
              "      <th></th>\n",
              "      <th>Name</th>\n",
              "      <th>Age</th>\n",
              "    </tr>\n",
              "  </thead>\n",
              "  <tbody>\n",
              "    <tr>\n",
              "      <th>0</th>\n",
              "      <td>Anna</td>\n",
              "      <td>28</td>\n",
              "    </tr>\n",
              "    <tr>\n",
              "      <th>1</th>\n",
              "      <td>Petr</td>\n",
              "      <td>35</td>\n",
              "    </tr>\n",
              "    <tr>\n",
              "      <th>2</th>\n",
              "      <td>Eva</td>\n",
              "      <td>22</td>\n",
              "    </tr>\n",
              "    <tr>\n",
              "      <th>3</th>\n",
              "      <td>Tomáš</td>\n",
              "      <td>30</td>\n",
              "    </tr>\n",
              "    <tr>\n",
              "      <th>4</th>\n",
              "      <td>Jana</td>\n",
              "      <td>27</td>\n",
              "    </tr>\n",
              "    <tr>\n",
              "      <th>...</th>\n",
              "      <td>...</td>\n",
              "      <td>...</td>\n",
              "    </tr>\n",
              "    <tr>\n",
              "      <th>87</th>\n",
              "      <td>Ema</td>\n",
              "      <td>24</td>\n",
              "    </tr>\n",
              "    <tr>\n",
              "      <th>88</th>\n",
              "      <td>Oleg</td>\n",
              "      <td>30</td>\n",
              "    </tr>\n",
              "    <tr>\n",
              "      <th>89</th>\n",
              "      <td>Vanda</td>\n",
              "      <td>33</td>\n",
              "    </tr>\n",
              "    <tr>\n",
              "      <th>90</th>\n",
              "      <td>Jindřich</td>\n",
              "      <td>41</td>\n",
              "    </tr>\n",
              "    <tr>\n",
              "      <th>91</th>\n",
              "      <td>Pavla</td>\n",
              "      <td>37</td>\n",
              "    </tr>\n",
              "  </tbody>\n",
              "</table>\n",
              "<p>92 rows × 2 columns</p>\n",
              "</div>"
            ],
            "text/plain": [
              "        Name  Age\n",
              "0       Anna   28\n",
              "1       Petr   35\n",
              "2        Eva   22\n",
              "3      Tomáš   30\n",
              "4       Jana   27\n",
              "..       ...  ...\n",
              "87       Ema   24\n",
              "88      Oleg   30\n",
              "89     Vanda   33\n",
              "90  Jindřich   41\n",
              "91     Pavla   37\n",
              "\n",
              "[92 rows x 2 columns]"
            ]
          },
          "execution_count": 62,
          "metadata": {},
          "output_type": "execute_result"
        }
      ],
      "source": [
        "df_people[['Name', 'Age']]"
      ]
    },
    {
      "cell_type": "markdown",
      "metadata": {
        "id": "X8gzz0_pbFRd"
      },
      "source": [
        " - výběr prvních nebo posledních několika řádků konkrétního sloupce"
      ]
    },
    {
      "cell_type": "code",
      "execution_count": 63,
      "metadata": {
        "id": "CYFxl92hbFlY"
      },
      "outputs": [
        {
          "data": {
            "text/plain": [
              "0    50000.0\n",
              "1    62000.0\n",
              "2    45000.0\n",
              "3    52000.0\n",
              "4    48000.0\n",
              "Name: Salary, dtype: float64"
            ]
          },
          "execution_count": 63,
          "metadata": {},
          "output_type": "execute_result"
        }
      ],
      "source": [
        "df_people['Salary'].head()  # Zobrazí mzdy prvních 5 řádků"
      ]
    },
    {
      "cell_type": "code",
      "execution_count": 64,
      "metadata": {
        "id": "yh-AvWdBbKMB"
      },
      "outputs": [
        {
          "data": {
            "text/plain": [
              "87    44000.0\n",
              "88    52000.0\n",
              "89    57000.0\n",
              "90    71000.0\n",
              "91    54000.0\n",
              "Name: Salary, dtype: float64"
            ]
          },
          "execution_count": 64,
          "metadata": {},
          "output_type": "execute_result"
        }
      ],
      "source": [
        "df_people['Salary'].tail()  # Zobrazí mzdy posledních 5 řádků"
      ]
    },
    {
      "cell_type": "markdown",
      "metadata": {
        "id": "guCHoivKb3Kp"
      },
      "source": [
        " - Výběr konkrétní buňky (hodnoty)"
      ]
    },
    {
      "cell_type": "code",
      "execution_count": 68,
      "metadata": {
        "id": "Q8gcUALHb8j_"
      },
      "outputs": [
        {
          "data": {
            "text/plain": [
              "np.int64(28)"
            ]
          },
          "execution_count": 68,
          "metadata": {},
          "output_type": "execute_result"
        }
      ],
      "source": [
        "df_people.iloc[0, 2]  # Hodnota 1. řádku a 3. sloupce"
      ]
    },
    {
      "cell_type": "code",
      "execution_count": 66,
      "metadata": {
        "id": "0VlFQrUvb-cE"
      },
      "outputs": [
        {
          "data": {
            "text/plain": [
              "'Prague'"
            ]
          },
          "execution_count": 66,
          "metadata": {},
          "output_type": "execute_result"
        }
      ],
      "source": [
        "df_people.loc[0, 'City']  # Hodnota 1. řádku ve sloupci \"City\""
      ]
    },
    {
      "cell_type": "markdown",
      "metadata": {
        "id": "uc38T_HYwqoL"
      },
      "source": [
        "- jedinečné hodnoty"
      ]
    },
    {
      "cell_type": "code",
      "execution_count": 69,
      "metadata": {
        "id": "n1JawTw-wpWA"
      },
      "outputs": [
        {
          "data": {
            "text/plain": [
              "array(['Prague', 'Brno', 'Ostrava', 'Plzeň', 'Liberec'], dtype=object)"
            ]
          },
          "execution_count": 69,
          "metadata": {},
          "output_type": "execute_result"
        }
      ],
      "source": [
        "df_people['City'].unique()"
      ]
    },
    {
      "cell_type": "markdown",
      "metadata": {
        "id": "Oxmi3iHOYODF"
      },
      "source": [
        " - rychlý pohled na strukturu a velikost dat"
      ]
    },
    {
      "cell_type": "code",
      "execution_count": 70,
      "metadata": {
        "id": "nqOBuNa8YTVu"
      },
      "outputs": [
        {
          "name": "stdout",
          "output_type": "stream",
          "text": [
            "<class 'pandas.core.frame.DataFrame'>\n",
            "RangeIndex: 92 entries, 0 to 91\n",
            "Data columns (total 6 columns):\n",
            " #   Column      Non-Null Count  Dtype  \n",
            "---  ------      --------------  -----  \n",
            " 0   PersonalId  92 non-null     int64  \n",
            " 1   Name        92 non-null     object \n",
            " 2   Age         92 non-null     int64  \n",
            " 3   City        92 non-null     object \n",
            " 4   Salary      89 non-null     float64\n",
            " 5   Active      71 non-null     object \n",
            "dtypes: float64(1), int64(2), object(3)\n",
            "memory usage: 4.4+ KB\n"
          ]
        }
      ],
      "source": [
        "df_people.info()"
      ]
    },
    {
      "cell_type": "markdown",
      "metadata": {
        "id": "cne4ZICxYqtr"
      },
      "source": [
        " - počet řádků a sloupců"
      ]
    },
    {
      "cell_type": "code",
      "execution_count": 71,
      "metadata": {
        "id": "rsnFvjCuYuO9"
      },
      "outputs": [
        {
          "data": {
            "text/plain": [
              "(92, 6)"
            ]
          },
          "execution_count": 71,
          "metadata": {},
          "output_type": "execute_result"
        }
      ],
      "source": [
        "df_people.shape"
      ]
    },
    {
      "cell_type": "markdown",
      "metadata": {
        "id": "0oc1YnFVYybx"
      },
      "source": [
        " - názvy sloupců"
      ]
    },
    {
      "cell_type": "code",
      "execution_count": 72,
      "metadata": {
        "id": "uwlEtXNfYyD2"
      },
      "outputs": [
        {
          "data": {
            "text/plain": [
              "Index(['PersonalId', 'Name', 'Age', 'City', 'Salary', 'Active'], dtype='object')"
            ]
          },
          "execution_count": 72,
          "metadata": {},
          "output_type": "execute_result"
        }
      ],
      "source": [
        "df_people.columns"
      ]
    },
    {
      "cell_type": "markdown",
      "metadata": {
        "id": "oA19Dg3YY6v5"
      },
      "source": [
        " - základní statistika"
      ]
    },
    {
      "cell_type": "code",
      "execution_count": 73,
      "metadata": {
        "id": "iinGPwG8ZBoQ"
      },
      "outputs": [
        {
          "data": {
            "text/html": [
              "<div>\n",
              "<style scoped>\n",
              "    .dataframe tbody tr th:only-of-type {\n",
              "        vertical-align: middle;\n",
              "    }\n",
              "\n",
              "    .dataframe tbody tr th {\n",
              "        vertical-align: top;\n",
              "    }\n",
              "\n",
              "    .dataframe thead th {\n",
              "        text-align: right;\n",
              "    }\n",
              "</style>\n",
              "<table border=\"1\" class=\"dataframe\">\n",
              "  <thead>\n",
              "    <tr style=\"text-align: right;\">\n",
              "      <th></th>\n",
              "      <th>PersonalId</th>\n",
              "      <th>Age</th>\n",
              "      <th>Salary</th>\n",
              "    </tr>\n",
              "  </thead>\n",
              "  <tbody>\n",
              "    <tr>\n",
              "      <th>count</th>\n",
              "      <td>92.00000</td>\n",
              "      <td>92.000000</td>\n",
              "      <td>89.000000</td>\n",
              "    </tr>\n",
              "    <tr>\n",
              "      <th>mean</th>\n",
              "      <td>46.50000</td>\n",
              "      <td>31.282609</td>\n",
              "      <td>55056.179775</td>\n",
              "    </tr>\n",
              "    <tr>\n",
              "      <th>std</th>\n",
              "      <td>26.70206</td>\n",
              "      <td>5.312904</td>\n",
              "      <td>8752.090076</td>\n",
              "    </tr>\n",
              "    <tr>\n",
              "      <th>min</th>\n",
              "      <td>1.00000</td>\n",
              "      <td>22.000000</td>\n",
              "      <td>39000.000000</td>\n",
              "    </tr>\n",
              "    <tr>\n",
              "      <th>25%</th>\n",
              "      <td>23.75000</td>\n",
              "      <td>27.000000</td>\n",
              "      <td>49000.000000</td>\n",
              "    </tr>\n",
              "    <tr>\n",
              "      <th>50%</th>\n",
              "      <td>46.50000</td>\n",
              "      <td>30.500000</td>\n",
              "      <td>54000.000000</td>\n",
              "    </tr>\n",
              "    <tr>\n",
              "      <th>75%</th>\n",
              "      <td>69.25000</td>\n",
              "      <td>35.250000</td>\n",
              "      <td>60000.000000</td>\n",
              "    </tr>\n",
              "    <tr>\n",
              "      <th>max</th>\n",
              "      <td>92.00000</td>\n",
              "      <td>41.000000</td>\n",
              "      <td>74000.000000</td>\n",
              "    </tr>\n",
              "  </tbody>\n",
              "</table>\n",
              "</div>"
            ],
            "text/plain": [
              "       PersonalId        Age        Salary\n",
              "count    92.00000  92.000000     89.000000\n",
              "mean     46.50000  31.282609  55056.179775\n",
              "std      26.70206   5.312904   8752.090076\n",
              "min       1.00000  22.000000  39000.000000\n",
              "25%      23.75000  27.000000  49000.000000\n",
              "50%      46.50000  30.500000  54000.000000\n",
              "75%      69.25000  35.250000  60000.000000\n",
              "max      92.00000  41.000000  74000.000000"
            ]
          },
          "execution_count": 73,
          "metadata": {},
          "output_type": "execute_result"
        }
      ],
      "source": [
        "df_people.describe() # Poskytne základní statistiky pro číselné sloupce"
      ]
    },
    {
      "cell_type": "code",
      "execution_count": 87,
      "metadata": {
        "id": "ZZUBFOsqZH9S"
      },
      "outputs": [
        {
          "data": {
            "text/html": [
              "<div>\n",
              "<style scoped>\n",
              "    .dataframe tbody tr th:only-of-type {\n",
              "        vertical-align: middle;\n",
              "    }\n",
              "\n",
              "    .dataframe tbody tr th {\n",
              "        vertical-align: top;\n",
              "    }\n",
              "\n",
              "    .dataframe thead th {\n",
              "        text-align: right;\n",
              "    }\n",
              "</style>\n",
              "<table border=\"1\" class=\"dataframe\">\n",
              "  <thead>\n",
              "    <tr style=\"text-align: right;\">\n",
              "      <th></th>\n",
              "      <th>PersonalId</th>\n",
              "      <th>Name</th>\n",
              "      <th>Age</th>\n",
              "      <th>City</th>\n",
              "      <th>Salary</th>\n",
              "      <th>Active</th>\n",
              "    </tr>\n",
              "  </thead>\n",
              "  <tbody>\n",
              "    <tr>\n",
              "      <th>count</th>\n",
              "      <td>92.00000</td>\n",
              "      <td>92</td>\n",
              "      <td>92.000000</td>\n",
              "      <td>92</td>\n",
              "      <td>89.000000</td>\n",
              "      <td>71</td>\n",
              "    </tr>\n",
              "    <tr>\n",
              "      <th>unique</th>\n",
              "      <td>NaN</td>\n",
              "      <td>87</td>\n",
              "      <td>NaN</td>\n",
              "      <td>5</td>\n",
              "      <td>NaN</td>\n",
              "      <td>1</td>\n",
              "    </tr>\n",
              "    <tr>\n",
              "      <th>top</th>\n",
              "      <td>NaN</td>\n",
              "      <td>Hana</td>\n",
              "      <td>NaN</td>\n",
              "      <td>Prague</td>\n",
              "      <td>NaN</td>\n",
              "      <td>True</td>\n",
              "    </tr>\n",
              "    <tr>\n",
              "      <th>freq</th>\n",
              "      <td>NaN</td>\n",
              "      <td>2</td>\n",
              "      <td>NaN</td>\n",
              "      <td>21</td>\n",
              "      <td>NaN</td>\n",
              "      <td>71</td>\n",
              "    </tr>\n",
              "    <tr>\n",
              "      <th>mean</th>\n",
              "      <td>46.50000</td>\n",
              "      <td>NaN</td>\n",
              "      <td>31.282609</td>\n",
              "      <td>NaN</td>\n",
              "      <td>55056.179775</td>\n",
              "      <td>NaN</td>\n",
              "    </tr>\n",
              "    <tr>\n",
              "      <th>std</th>\n",
              "      <td>26.70206</td>\n",
              "      <td>NaN</td>\n",
              "      <td>5.312904</td>\n",
              "      <td>NaN</td>\n",
              "      <td>8752.090076</td>\n",
              "      <td>NaN</td>\n",
              "    </tr>\n",
              "    <tr>\n",
              "      <th>min</th>\n",
              "      <td>1.00000</td>\n",
              "      <td>NaN</td>\n",
              "      <td>22.000000</td>\n",
              "      <td>NaN</td>\n",
              "      <td>39000.000000</td>\n",
              "      <td>NaN</td>\n",
              "    </tr>\n",
              "    <tr>\n",
              "      <th>25%</th>\n",
              "      <td>23.75000</td>\n",
              "      <td>NaN</td>\n",
              "      <td>27.000000</td>\n",
              "      <td>NaN</td>\n",
              "      <td>49000.000000</td>\n",
              "      <td>NaN</td>\n",
              "    </tr>\n",
              "    <tr>\n",
              "      <th>50%</th>\n",
              "      <td>46.50000</td>\n",
              "      <td>NaN</td>\n",
              "      <td>30.500000</td>\n",
              "      <td>NaN</td>\n",
              "      <td>54000.000000</td>\n",
              "      <td>NaN</td>\n",
              "    </tr>\n",
              "    <tr>\n",
              "      <th>75%</th>\n",
              "      <td>69.25000</td>\n",
              "      <td>NaN</td>\n",
              "      <td>35.250000</td>\n",
              "      <td>NaN</td>\n",
              "      <td>60000.000000</td>\n",
              "      <td>NaN</td>\n",
              "    </tr>\n",
              "    <tr>\n",
              "      <th>max</th>\n",
              "      <td>92.00000</td>\n",
              "      <td>NaN</td>\n",
              "      <td>41.000000</td>\n",
              "      <td>NaN</td>\n",
              "      <td>74000.000000</td>\n",
              "      <td>NaN</td>\n",
              "    </tr>\n",
              "  </tbody>\n",
              "</table>\n",
              "</div>"
            ],
            "text/plain": [
              "        PersonalId  Name        Age    City        Salary Active\n",
              "count     92.00000    92  92.000000      92     89.000000     71\n",
              "unique         NaN    87        NaN       5           NaN      1\n",
              "top            NaN  Hana        NaN  Prague           NaN   True\n",
              "freq           NaN     2        NaN      21           NaN     71\n",
              "mean      46.50000   NaN  31.282609     NaN  55056.179775    NaN\n",
              "std       26.70206   NaN   5.312904     NaN   8752.090076    NaN\n",
              "min        1.00000   NaN  22.000000     NaN  39000.000000    NaN\n",
              "25%       23.75000   NaN  27.000000     NaN  49000.000000    NaN\n",
              "50%       46.50000   NaN  30.500000     NaN  54000.000000    NaN\n",
              "75%       69.25000   NaN  35.250000     NaN  60000.000000    NaN\n",
              "max       92.00000   NaN  41.000000     NaN  74000.000000    NaN"
            ]
          },
          "execution_count": 87,
          "metadata": {},
          "output_type": "execute_result"
        }
      ],
      "source": [
        "df_people.describe(include='all') # Poskytne základní statistiky pro všechny sloupce"
      ]
    },
    {
      "cell_type": "markdown",
      "metadata": {
        "id": "F2vUX4WWccHt"
      },
      "source": [
        " - počet jedinečných hodnot v každém sloupci"
      ]
    },
    {
      "cell_type": "code",
      "execution_count": 88,
      "metadata": {
        "id": "LPZOw8Cpcb56"
      },
      "outputs": [
        {
          "data": {
            "text/plain": [
              "PersonalId    92\n",
              "Name          87\n",
              "Age           20\n",
              "City           5\n",
              "Salary        30\n",
              "Active         1\n",
              "dtype: int64"
            ]
          },
          "execution_count": 88,
          "metadata": {},
          "output_type": "execute_result"
        }
      ],
      "source": [
        "df_people.nunique()"
      ]
    },
    {
      "cell_type": "markdown",
      "metadata": {
        "id": "8JPXdU9BcrYW"
      },
      "source": [
        " - četnost (počet výskytů) jedinečných hodnot"
      ]
    },
    {
      "cell_type": "code",
      "execution_count": null,
      "metadata": {
        "id": "1pSeDJEpcrlC"
      },
      "outputs": [
        {
          "data": {
            "text/plain": [
              "City\n",
              "Prague     21\n",
              "Ostrava    20\n",
              "Brno       18\n",
              "Liberec    17\n",
              "Plzeň      16\n",
              "Name: count, dtype: int64"
            ]
          },
          "execution_count": 89,
          "metadata": {},
          "output_type": "execute_result"
        }
      ],
      "source": [
        "df_people['City'].value_counts()"
      ]
    },
    {
      "cell_type": "code",
      "execution_count": 90,
      "metadata": {},
      "outputs": [],
      "source": [
        "head_data = df_people.head(10)"
      ]
    },
    {
      "cell_type": "code",
      "execution_count": 91,
      "metadata": {},
      "outputs": [
        {
          "name": "stdout",
          "output_type": "stream",
          "text": [
            "   PersonalId      Name  Age     City   Salary Active\n",
            "0           1      Anna   28   Prague  50000.0   True\n",
            "1           2      Petr   35     Brno  62000.0   True\n",
            "2           3       Eva   22  Ostrava  45000.0   True\n",
            "3           4     Tomáš   30    Plzeň  52000.0   True\n",
            "4           5      Jana   27  Liberec  48000.0   True\n",
            "5           6     Karel   33   Prague  55000.0   True\n",
            "6           7   Markéta   26     Brno  49000.0   True\n",
            "7           8     Lukáš   40  Ostrava  71000.0    NaN\n",
            "8           9  Michaela   24  Liberec  47000.0   True\n",
            "9          10      Jiří   29   Prague  53000.0   True\n"
          ]
        }
      ],
      "source": [
        "print(head_data)"
      ]
    },
    {
      "cell_type": "markdown",
      "metadata": {
        "id": "1MmDT0k4kTxo"
      },
      "source": [
        "## Manipulace dat"
      ]
    },
    {
      "cell_type": "markdown",
      "metadata": {
        "id": "BLNaZVfVVdhD"
      },
      "source": [
        "### Úprava datových typů"
      ]
    },
    {
      "cell_type": "markdown",
      "metadata": {
        "id": "FH1abIG1ViC5"
      },
      "source": [
        " - v přechozí části jsme se dozvěděli, jaké datové typy Pandas používá\n",
        " - protože se může stát, že Pandas datový typ nerozpozná, případně jej chceme sami změnit, je to možné udělat následujícím způsobem:"
      ]
    },
    {
      "cell_type": "code",
      "execution_count": 92,
      "metadata": {
        "id": "Qd9L76rYkg_I"
      },
      "outputs": [
        {
          "name": "stdout",
          "output_type": "stream",
          "text": [
            "<class 'pandas.core.frame.DataFrame'>\n",
            "RangeIndex: 92 entries, 0 to 91\n",
            "Data columns (total 6 columns):\n",
            " #   Column      Non-Null Count  Dtype  \n",
            "---  ------      --------------  -----  \n",
            " 0   PersonalId  92 non-null     int64  \n",
            " 1   Name        92 non-null     object \n",
            " 2   Age         92 non-null     int64  \n",
            " 3   City        92 non-null     object \n",
            " 4   Salary      89 non-null     float64\n",
            " 5   Active      71 non-null     object \n",
            "dtypes: float64(1), int64(2), object(3)\n",
            "memory usage: 4.4+ KB\n"
          ]
        }
      ],
      "source": [
        "df_people.info()"
      ]
    },
    {
      "cell_type": "code",
      "execution_count": 93,
      "metadata": {
        "id": "pDpfzPhXVg79"
      },
      "outputs": [],
      "source": [
        "df_people['City'] = df_people['City'].astype('category')"
      ]
    },
    {
      "cell_type": "code",
      "execution_count": 95,
      "metadata": {},
      "outputs": [
        {
          "name": "stdout",
          "output_type": "stream",
          "text": [
            "<class 'pandas.core.frame.DataFrame'>\n",
            "RangeIndex: 92 entries, 0 to 91\n",
            "Data columns (total 6 columns):\n",
            " #   Column      Non-Null Count  Dtype   \n",
            "---  ------      --------------  -----   \n",
            " 0   PersonalId  92 non-null     int64   \n",
            " 1   Name        92 non-null     object  \n",
            " 2   Age         92 non-null     int64   \n",
            " 3   City        92 non-null     category\n",
            " 4   Salary      89 non-null     float64 \n",
            " 5   Active      71 non-null     object  \n",
            "dtypes: category(1), float64(1), int64(2), object(2)\n",
            "memory usage: 4.0+ KB\n"
          ]
        }
      ],
      "source": [
        "df_people.info()"
      ]
    },
    {
      "cell_type": "code",
      "execution_count": 98,
      "metadata": {
        "id": "e62QvlCXkPvE"
      },
      "outputs": [],
      "source": [
        "df_people['Age'] = df_people['Age'].astype('float')"
      ]
    },
    {
      "cell_type": "code",
      "execution_count": 99,
      "metadata": {
        "id": "ZkUp4x62kcqZ"
      },
      "outputs": [
        {
          "name": "stdout",
          "output_type": "stream",
          "text": [
            "<class 'pandas.core.frame.DataFrame'>\n",
            "RangeIndex: 92 entries, 0 to 91\n",
            "Data columns (total 6 columns):\n",
            " #   Column      Non-Null Count  Dtype   \n",
            "---  ------      --------------  -----   \n",
            " 0   PersonalId  92 non-null     int64   \n",
            " 1   Name        92 non-null     object  \n",
            " 2   Age         92 non-null     float64 \n",
            " 3   City        92 non-null     category\n",
            " 4   Salary      89 non-null     float64 \n",
            " 5   Active      71 non-null     object  \n",
            "dtypes: category(1), float64(2), int64(1), object(2)\n",
            "memory usage: 4.0+ KB\n"
          ]
        }
      ],
      "source": [
        "df_people.info()"
      ]
    },
    {
      "cell_type": "markdown",
      "metadata": {
        "id": "s0bF3vG8geaM"
      },
      "source": [
        "### Filtrování a podmíněné výběry dat"
      ]
    },
    {
      "cell_type": "markdown",
      "metadata": {
        "id": "JBO2rjGegtju"
      },
      "source": [
        "#### Typy podmínek"
      ]
    },
    {
      "cell_type": "markdown",
      "metadata": {
        "id": "cGhIFg5Yi7mt"
      },
      "source": [
        "| Operátor | Význam                          | Příklad použití                        |\n",
        "|----------|----------------------------------|----------------------------------------|\n",
        "| `==`     | Rovnost                         | df[df[\"Věk\"] == 30]                   |\n",
        "| `!=`     | Nerovnost                       | df[df[\"Město\"] != \"Praha\"]            |\n",
        "| `>`      | Větší než                       | df[df[\"Plat\"] > 50000]                |\n",
        "| `<`      | Menší než                       | df[df[\"Věk\"] < 40]                    |\n",
        "| `>=`     | Větší nebo rovno                | df[df[\"Věk\"] >= 25]                   |\n",
        "| `<=`     | Menší nebo rovno                | df[df[\"Plat\"] <= 60000]               |\n",
        "| `&`      | Logické A (AND)                 | df[(df[\"Věk\"] > 25) & (df[\"Plat\"] > 50000)] |\n",
        "| `\\|`      | Logické NEBO (OR)               | df[(df[\"Město\"] == \"Praha\") \\| (df[\"Město\"] == \"Brno\")] |\n",
        "| `~`      | Logická negace (NOT)            | df[~(df[\"Město\"] == \"Brno\")]          |\n",
        "| `.isin()`| Hodnota obsahuje v seznamu      | df[df[\"Město\"].isin([\"Praha\", \"Brno\"])]|\n",
        "| `.str.contains()` | Obsahuje podřetězec     | df[df[\"Jméno\"].str.contains(\"ov\")]    |"
      ]
    },
    {
      "cell_type": "markdown",
      "metadata": {
        "id": "JspnPVxOjbJ3"
      },
      "source": [
        "#### Ukázky"
      ]
    },
    {
      "cell_type": "markdown",
      "metadata": {
        "id": "qFTEbIdFgzan"
      },
      "source": [
        " - pro potřeby filtrování využijeme v Pandas podmínku"
      ]
    },
    {
      "cell_type": "code",
      "execution_count": 101,
      "metadata": {
        "id": "wqudPol_gyuL"
      },
      "outputs": [
        {
          "data": {
            "text/html": [
              "<div>\n",
              "<style scoped>\n",
              "    .dataframe tbody tr th:only-of-type {\n",
              "        vertical-align: middle;\n",
              "    }\n",
              "\n",
              "    .dataframe tbody tr th {\n",
              "        vertical-align: top;\n",
              "    }\n",
              "\n",
              "    .dataframe thead th {\n",
              "        text-align: right;\n",
              "    }\n",
              "</style>\n",
              "<table border=\"1\" class=\"dataframe\">\n",
              "  <thead>\n",
              "    <tr style=\"text-align: right;\">\n",
              "      <th></th>\n",
              "      <th>PersonalId</th>\n",
              "      <th>Name</th>\n",
              "      <th>Age</th>\n",
              "      <th>City</th>\n",
              "      <th>Salary</th>\n",
              "      <th>Active</th>\n",
              "    </tr>\n",
              "  </thead>\n",
              "  <tbody>\n",
              "    <tr>\n",
              "      <th>1</th>\n",
              "      <td>2</td>\n",
              "      <td>Petr</td>\n",
              "      <td>35.0</td>\n",
              "      <td>Brno</td>\n",
              "      <td>62000.0</td>\n",
              "      <td>True</td>\n",
              "    </tr>\n",
              "    <tr>\n",
              "      <th>7</th>\n",
              "      <td>8</td>\n",
              "      <td>Lukáš</td>\n",
              "      <td>40.0</td>\n",
              "      <td>Ostrava</td>\n",
              "      <td>71000.0</td>\n",
              "      <td>NaN</td>\n",
              "    </tr>\n",
              "    <tr>\n",
              "      <th>13</th>\n",
              "      <td>14</td>\n",
              "      <td>Hana</td>\n",
              "      <td>38.0</td>\n",
              "      <td>Prague</td>\n",
              "      <td>67000.0</td>\n",
              "      <td>True</td>\n",
              "    </tr>\n",
              "    <tr>\n",
              "      <th>16</th>\n",
              "      <td>17</td>\n",
              "      <td>Zdeněk</td>\n",
              "      <td>41.0</td>\n",
              "      <td>Brno</td>\n",
              "      <td>74000.0</td>\n",
              "      <td>True</td>\n",
              "    </tr>\n",
              "    <tr>\n",
              "      <th>17</th>\n",
              "      <td>18</td>\n",
              "      <td>Daniel</td>\n",
              "      <td>34.0</td>\n",
              "      <td>Plzeň</td>\n",
              "      <td>60000.0</td>\n",
              "      <td>True</td>\n",
              "    </tr>\n",
              "    <tr>\n",
              "      <th>21</th>\n",
              "      <td>22</td>\n",
              "      <td>Pavel</td>\n",
              "      <td>39.0</td>\n",
              "      <td>Brno</td>\n",
              "      <td>70000.0</td>\n",
              "      <td>True</td>\n",
              "    </tr>\n",
              "    <tr>\n",
              "      <th>27</th>\n",
              "      <td>28</td>\n",
              "      <td>Veronika</td>\n",
              "      <td>31.0</td>\n",
              "      <td>Brno</td>\n",
              "      <td>60000.0</td>\n",
              "      <td>NaN</td>\n",
              "    </tr>\n",
              "    <tr>\n",
              "      <th>30</th>\n",
              "      <td>31</td>\n",
              "      <td>Radek</td>\n",
              "      <td>40.0</td>\n",
              "      <td>Prague</td>\n",
              "      <td>63000.0</td>\n",
              "      <td>True</td>\n",
              "    </tr>\n",
              "    <tr>\n",
              "      <th>36</th>\n",
              "      <td>37</td>\n",
              "      <td>Štěpán</td>\n",
              "      <td>36.0</td>\n",
              "      <td>Liberec</td>\n",
              "      <td>65000.0</td>\n",
              "      <td>True</td>\n",
              "    </tr>\n",
              "    <tr>\n",
              "      <th>40</th>\n",
              "      <td>41</td>\n",
              "      <td>Rostislav</td>\n",
              "      <td>41.0</td>\n",
              "      <td>Plzeň</td>\n",
              "      <td>72000.0</td>\n",
              "      <td>True</td>\n",
              "    </tr>\n",
              "    <tr>\n",
              "      <th>41</th>\n",
              "      <td>42</td>\n",
              "      <td>Renata</td>\n",
              "      <td>35.0</td>\n",
              "      <td>Liberec</td>\n",
              "      <td>62000.0</td>\n",
              "      <td>NaN</td>\n",
              "    </tr>\n",
              "    <tr>\n",
              "      <th>44</th>\n",
              "      <td>45</td>\n",
              "      <td>Tomáš</td>\n",
              "      <td>38.0</td>\n",
              "      <td>Prague</td>\n",
              "      <td>68000.0</td>\n",
              "      <td>NaN</td>\n",
              "    </tr>\n",
              "    <tr>\n",
              "      <th>46</th>\n",
              "      <td>47</td>\n",
              "      <td>Jaroslav</td>\n",
              "      <td>37.0</td>\n",
              "      <td>Liberec</td>\n",
              "      <td>60000.0</td>\n",
              "      <td>True</td>\n",
              "    </tr>\n",
              "    <tr>\n",
              "      <th>49</th>\n",
              "      <td>50</td>\n",
              "      <td>Martin</td>\n",
              "      <td>40.0</td>\n",
              "      <td>Ostrava</td>\n",
              "      <td>71000.0</td>\n",
              "      <td>NaN</td>\n",
              "    </tr>\n",
              "    <tr>\n",
              "      <th>55</th>\n",
              "      <td>56</td>\n",
              "      <td>Miroslav</td>\n",
              "      <td>39.0</td>\n",
              "      <td>Liberec</td>\n",
              "      <td>67000.0</td>\n",
              "      <td>NaN</td>\n",
              "    </tr>\n",
              "    <tr>\n",
              "      <th>58</th>\n",
              "      <td>59</td>\n",
              "      <td>Radim</td>\n",
              "      <td>35.0</td>\n",
              "      <td>Brno</td>\n",
              "      <td>61000.0</td>\n",
              "      <td>NaN</td>\n",
              "    </tr>\n",
              "    <tr>\n",
              "      <th>60</th>\n",
              "      <td>61</td>\n",
              "      <td>Stanislav</td>\n",
              "      <td>41.0</td>\n",
              "      <td>Ostrava</td>\n",
              "      <td>74000.0</td>\n",
              "      <td>NaN</td>\n",
              "    </tr>\n",
              "    <tr>\n",
              "      <th>63</th>\n",
              "      <td>64</td>\n",
              "      <td>Ivana</td>\n",
              "      <td>40.0</td>\n",
              "      <td>Brno</td>\n",
              "      <td>68000.0</td>\n",
              "      <td>True</td>\n",
              "    </tr>\n",
              "    <tr>\n",
              "      <th>64</th>\n",
              "      <td>65</td>\n",
              "      <td>Oldřich</td>\n",
              "      <td>36.0</td>\n",
              "      <td>Ostrava</td>\n",
              "      <td>60000.0</td>\n",
              "      <td>True</td>\n",
              "    </tr>\n",
              "    <tr>\n",
              "      <th>66</th>\n",
              "      <td>67</td>\n",
              "      <td>Boris</td>\n",
              "      <td>39.0</td>\n",
              "      <td>Plzeň</td>\n",
              "      <td>65000.0</td>\n",
              "      <td>True</td>\n",
              "    </tr>\n",
              "    <tr>\n",
              "      <th>73</th>\n",
              "      <td>74</td>\n",
              "      <td>Jakub</td>\n",
              "      <td>36.0</td>\n",
              "      <td>Ostrava</td>\n",
              "      <td>72000.0</td>\n",
              "      <td>NaN</td>\n",
              "    </tr>\n",
              "    <tr>\n",
              "      <th>75</th>\n",
              "      <td>76</td>\n",
              "      <td>Adam</td>\n",
              "      <td>40.0</td>\n",
              "      <td>Brno</td>\n",
              "      <td>70000.0</td>\n",
              "      <td>NaN</td>\n",
              "    </tr>\n",
              "    <tr>\n",
              "      <th>79</th>\n",
              "      <td>80</td>\n",
              "      <td>Tadeáš</td>\n",
              "      <td>34.0</td>\n",
              "      <td>Brno</td>\n",
              "      <td>62000.0</td>\n",
              "      <td>True</td>\n",
              "    </tr>\n",
              "    <tr>\n",
              "      <th>81</th>\n",
              "      <td>82</td>\n",
              "      <td>Radka</td>\n",
              "      <td>38.0</td>\n",
              "      <td>Ostrava</td>\n",
              "      <td>67000.0</td>\n",
              "      <td>True</td>\n",
              "    </tr>\n",
              "    <tr>\n",
              "      <th>84</th>\n",
              "      <td>85</td>\n",
              "      <td>Patrik</td>\n",
              "      <td>36.0</td>\n",
              "      <td>Plzeň</td>\n",
              "      <td>63000.0</td>\n",
              "      <td>True</td>\n",
              "    </tr>\n",
              "    <tr>\n",
              "      <th>90</th>\n",
              "      <td>91</td>\n",
              "      <td>Jindřich</td>\n",
              "      <td>41.0</td>\n",
              "      <td>Plzeň</td>\n",
              "      <td>71000.0</td>\n",
              "      <td>True</td>\n",
              "    </tr>\n",
              "  </tbody>\n",
              "</table>\n",
              "</div>"
            ],
            "text/plain": [
              "    PersonalId       Name   Age     City   Salary Active\n",
              "1            2       Petr  35.0     Brno  62000.0   True\n",
              "7            8      Lukáš  40.0  Ostrava  71000.0    NaN\n",
              "13          14       Hana  38.0   Prague  67000.0   True\n",
              "16          17     Zdeněk  41.0     Brno  74000.0   True\n",
              "17          18     Daniel  34.0    Plzeň  60000.0   True\n",
              "21          22      Pavel  39.0     Brno  70000.0   True\n",
              "27          28   Veronika  31.0     Brno  60000.0    NaN\n",
              "30          31      Radek  40.0   Prague  63000.0   True\n",
              "36          37     Štěpán  36.0  Liberec  65000.0   True\n",
              "40          41  Rostislav  41.0    Plzeň  72000.0   True\n",
              "41          42     Renata  35.0  Liberec  62000.0    NaN\n",
              "44          45      Tomáš  38.0   Prague  68000.0    NaN\n",
              "46          47   Jaroslav  37.0  Liberec  60000.0   True\n",
              "49          50     Martin  40.0  Ostrava  71000.0    NaN\n",
              "55          56   Miroslav  39.0  Liberec  67000.0    NaN\n",
              "58          59      Radim  35.0     Brno  61000.0    NaN\n",
              "60          61  Stanislav  41.0  Ostrava  74000.0    NaN\n",
              "63          64      Ivana  40.0     Brno  68000.0   True\n",
              "64          65    Oldřich  36.0  Ostrava  60000.0   True\n",
              "66          67      Boris  39.0    Plzeň  65000.0   True\n",
              "73          74      Jakub  36.0  Ostrava  72000.0    NaN\n",
              "75          76       Adam  40.0     Brno  70000.0    NaN\n",
              "79          80     Tadeáš  34.0     Brno  62000.0   True\n",
              "81          82      Radka  38.0  Ostrava  67000.0   True\n",
              "84          85     Patrik  36.0    Plzeň  63000.0   True\n",
              "90          91   Jindřich  41.0    Plzeň  71000.0   True"
            ]
          },
          "execution_count": 101,
          "metadata": {},
          "output_type": "execute_result"
        }
      ],
      "source": [
        "df_people[df_people[\"Salary\"] > 58000]"
      ]
    },
    {
      "cell_type": "markdown",
      "metadata": {
        "id": "z-9l2f-lhPqq"
      },
      "source": [
        " - podmínek může být víc a můžeme je sdružovat podobně jako v Pythonu\n",
        " - jen musíme využít `&` pro logické A, `|` pro logické NEBO, `~` pro logické NEGACE."
      ]
    },
    {
      "cell_type": "code",
      "execution_count": 102,
      "metadata": {
        "id": "ykYZ5YWYhOdj"
      },
      "outputs": [
        {
          "data": {
            "text/html": [
              "<div>\n",
              "<style scoped>\n",
              "    .dataframe tbody tr th:only-of-type {\n",
              "        vertical-align: middle;\n",
              "    }\n",
              "\n",
              "    .dataframe tbody tr th {\n",
              "        vertical-align: top;\n",
              "    }\n",
              "\n",
              "    .dataframe thead th {\n",
              "        text-align: right;\n",
              "    }\n",
              "</style>\n",
              "<table border=\"1\" class=\"dataframe\">\n",
              "  <thead>\n",
              "    <tr style=\"text-align: right;\">\n",
              "      <th></th>\n",
              "      <th>PersonalId</th>\n",
              "      <th>Name</th>\n",
              "      <th>Age</th>\n",
              "      <th>City</th>\n",
              "      <th>Salary</th>\n",
              "      <th>Active</th>\n",
              "    </tr>\n",
              "  </thead>\n",
              "  <tbody>\n",
              "    <tr>\n",
              "      <th>13</th>\n",
              "      <td>14</td>\n",
              "      <td>Hana</td>\n",
              "      <td>38.0</td>\n",
              "      <td>Prague</td>\n",
              "      <td>67000.0</td>\n",
              "      <td>True</td>\n",
              "    </tr>\n",
              "    <tr>\n",
              "      <th>30</th>\n",
              "      <td>31</td>\n",
              "      <td>Radek</td>\n",
              "      <td>40.0</td>\n",
              "      <td>Prague</td>\n",
              "      <td>63000.0</td>\n",
              "      <td>True</td>\n",
              "    </tr>\n",
              "    <tr>\n",
              "      <th>44</th>\n",
              "      <td>45</td>\n",
              "      <td>Tomáš</td>\n",
              "      <td>38.0</td>\n",
              "      <td>Prague</td>\n",
              "      <td>68000.0</td>\n",
              "      <td>NaN</td>\n",
              "    </tr>\n",
              "  </tbody>\n",
              "</table>\n",
              "</div>"
            ],
            "text/plain": [
              "    PersonalId   Name   Age    City   Salary Active\n",
              "13          14   Hana  38.0  Prague  67000.0   True\n",
              "30          31  Radek  40.0  Prague  63000.0   True\n",
              "44          45  Tomáš  38.0  Prague  68000.0    NaN"
            ]
          },
          "execution_count": 102,
          "metadata": {},
          "output_type": "execute_result"
        }
      ],
      "source": [
        "df_people[(df_people[\"Salary\"] > 60000) & (df_people[\"City\"] == \"Prague\")]"
      ]
    },
    {
      "cell_type": "code",
      "execution_count": 103,
      "metadata": {
        "id": "Q2aqcPlOhjWL"
      },
      "outputs": [
        {
          "data": {
            "text/html": [
              "<div>\n",
              "<style scoped>\n",
              "    .dataframe tbody tr th:only-of-type {\n",
              "        vertical-align: middle;\n",
              "    }\n",
              "\n",
              "    .dataframe tbody tr th {\n",
              "        vertical-align: top;\n",
              "    }\n",
              "\n",
              "    .dataframe thead th {\n",
              "        text-align: right;\n",
              "    }\n",
              "</style>\n",
              "<table border=\"1\" class=\"dataframe\">\n",
              "  <thead>\n",
              "    <tr style=\"text-align: right;\">\n",
              "      <th></th>\n",
              "      <th>PersonalId</th>\n",
              "      <th>Name</th>\n",
              "      <th>Age</th>\n",
              "      <th>City</th>\n",
              "      <th>Salary</th>\n",
              "      <th>Active</th>\n",
              "    </tr>\n",
              "  </thead>\n",
              "  <tbody>\n",
              "    <tr>\n",
              "      <th>5</th>\n",
              "      <td>6</td>\n",
              "      <td>Karel</td>\n",
              "      <td>33.0</td>\n",
              "      <td>Prague</td>\n",
              "      <td>55000.0</td>\n",
              "      <td>True</td>\n",
              "    </tr>\n",
              "    <tr>\n",
              "      <th>13</th>\n",
              "      <td>14</td>\n",
              "      <td>Hana</td>\n",
              "      <td>38.0</td>\n",
              "      <td>Prague</td>\n",
              "      <td>67000.0</td>\n",
              "      <td>True</td>\n",
              "    </tr>\n",
              "    <tr>\n",
              "      <th>22</th>\n",
              "      <td>23</td>\n",
              "      <td>Gabriela</td>\n",
              "      <td>33.0</td>\n",
              "      <td>Prague</td>\n",
              "      <td>52000.0</td>\n",
              "      <td>True</td>\n",
              "    </tr>\n",
              "    <tr>\n",
              "      <th>39</th>\n",
              "      <td>40</td>\n",
              "      <td>Jitka</td>\n",
              "      <td>33.0</td>\n",
              "      <td>Prague</td>\n",
              "      <td>NaN</td>\n",
              "      <td>True</td>\n",
              "    </tr>\n",
              "    <tr>\n",
              "      <th>56</th>\n",
              "      <td>57</td>\n",
              "      <td>Kristian</td>\n",
              "      <td>33.0</td>\n",
              "      <td>Ostrava</td>\n",
              "      <td>56000.0</td>\n",
              "      <td>NaN</td>\n",
              "    </tr>\n",
              "    <tr>\n",
              "      <th>65</th>\n",
              "      <td>66</td>\n",
              "      <td>Hana</td>\n",
              "      <td>28.0</td>\n",
              "      <td>Liberec</td>\n",
              "      <td>51000.0</td>\n",
              "      <td>True</td>\n",
              "    </tr>\n",
              "    <tr>\n",
              "      <th>89</th>\n",
              "      <td>90</td>\n",
              "      <td>Vanda</td>\n",
              "      <td>33.0</td>\n",
              "      <td>Prague</td>\n",
              "      <td>57000.0</td>\n",
              "      <td>True</td>\n",
              "    </tr>\n",
              "  </tbody>\n",
              "</table>\n",
              "</div>"
            ],
            "text/plain": [
              "    PersonalId      Name   Age     City   Salary Active\n",
              "5            6     Karel  33.0   Prague  55000.0   True\n",
              "13          14      Hana  38.0   Prague  67000.0   True\n",
              "22          23  Gabriela  33.0   Prague  52000.0   True\n",
              "39          40     Jitka  33.0   Prague      NaN   True\n",
              "56          57  Kristian  33.0  Ostrava  56000.0    NaN\n",
              "65          66      Hana  28.0  Liberec  51000.0   True\n",
              "89          90     Vanda  33.0   Prague  57000.0   True"
            ]
          },
          "execution_count": 103,
          "metadata": {},
          "output_type": "execute_result"
        }
      ],
      "source": [
        "df_people[(df_people[\"Name\"] == 'Hana') | (df_people[\"Age\"] == 33)]"
      ]
    },
    {
      "cell_type": "code",
      "execution_count": 104,
      "metadata": {
        "id": "opmi5MUChjKA"
      },
      "outputs": [
        {
          "data": {
            "text/html": [
              "<div>\n",
              "<style scoped>\n",
              "    .dataframe tbody tr th:only-of-type {\n",
              "        vertical-align: middle;\n",
              "    }\n",
              "\n",
              "    .dataframe tbody tr th {\n",
              "        vertical-align: top;\n",
              "    }\n",
              "\n",
              "    .dataframe thead th {\n",
              "        text-align: right;\n",
              "    }\n",
              "</style>\n",
              "<table border=\"1\" class=\"dataframe\">\n",
              "  <thead>\n",
              "    <tr style=\"text-align: right;\">\n",
              "      <th></th>\n",
              "      <th>PersonalId</th>\n",
              "      <th>Name</th>\n",
              "      <th>Age</th>\n",
              "      <th>City</th>\n",
              "      <th>Salary</th>\n",
              "      <th>Active</th>\n",
              "    </tr>\n",
              "  </thead>\n",
              "  <tbody>\n",
              "    <tr>\n",
              "      <th>0</th>\n",
              "      <td>1</td>\n",
              "      <td>Anna</td>\n",
              "      <td>28.0</td>\n",
              "      <td>Prague</td>\n",
              "      <td>50000.0</td>\n",
              "      <td>True</td>\n",
              "    </tr>\n",
              "    <tr>\n",
              "      <th>1</th>\n",
              "      <td>2</td>\n",
              "      <td>Petr</td>\n",
              "      <td>35.0</td>\n",
              "      <td>Brno</td>\n",
              "      <td>62000.0</td>\n",
              "      <td>True</td>\n",
              "    </tr>\n",
              "    <tr>\n",
              "      <th>2</th>\n",
              "      <td>3</td>\n",
              "      <td>Eva</td>\n",
              "      <td>22.0</td>\n",
              "      <td>Ostrava</td>\n",
              "      <td>45000.0</td>\n",
              "      <td>True</td>\n",
              "    </tr>\n",
              "    <tr>\n",
              "      <th>3</th>\n",
              "      <td>4</td>\n",
              "      <td>Tomáš</td>\n",
              "      <td>30.0</td>\n",
              "      <td>Plzeň</td>\n",
              "      <td>52000.0</td>\n",
              "      <td>True</td>\n",
              "    </tr>\n",
              "    <tr>\n",
              "      <th>4</th>\n",
              "      <td>5</td>\n",
              "      <td>Jana</td>\n",
              "      <td>27.0</td>\n",
              "      <td>Liberec</td>\n",
              "      <td>48000.0</td>\n",
              "      <td>True</td>\n",
              "    </tr>\n",
              "    <tr>\n",
              "      <th>...</th>\n",
              "      <td>...</td>\n",
              "      <td>...</td>\n",
              "      <td>...</td>\n",
              "      <td>...</td>\n",
              "      <td>...</td>\n",
              "      <td>...</td>\n",
              "    </tr>\n",
              "    <tr>\n",
              "      <th>87</th>\n",
              "      <td>88</td>\n",
              "      <td>Ema</td>\n",
              "      <td>24.0</td>\n",
              "      <td>Ostrava</td>\n",
              "      <td>44000.0</td>\n",
              "      <td>True</td>\n",
              "    </tr>\n",
              "    <tr>\n",
              "      <th>88</th>\n",
              "      <td>89</td>\n",
              "      <td>Oleg</td>\n",
              "      <td>30.0</td>\n",
              "      <td>Brno</td>\n",
              "      <td>52000.0</td>\n",
              "      <td>True</td>\n",
              "    </tr>\n",
              "    <tr>\n",
              "      <th>89</th>\n",
              "      <td>90</td>\n",
              "      <td>Vanda</td>\n",
              "      <td>33.0</td>\n",
              "      <td>Prague</td>\n",
              "      <td>57000.0</td>\n",
              "      <td>True</td>\n",
              "    </tr>\n",
              "    <tr>\n",
              "      <th>90</th>\n",
              "      <td>91</td>\n",
              "      <td>Jindřich</td>\n",
              "      <td>41.0</td>\n",
              "      <td>Plzeň</td>\n",
              "      <td>71000.0</td>\n",
              "      <td>True</td>\n",
              "    </tr>\n",
              "    <tr>\n",
              "      <th>91</th>\n",
              "      <td>92</td>\n",
              "      <td>Pavla</td>\n",
              "      <td>37.0</td>\n",
              "      <td>Prague</td>\n",
              "      <td>54000.0</td>\n",
              "      <td>NaN</td>\n",
              "    </tr>\n",
              "  </tbody>\n",
              "</table>\n",
              "<p>90 rows × 6 columns</p>\n",
              "</div>"
            ],
            "text/plain": [
              "    PersonalId      Name   Age     City   Salary Active\n",
              "0            1      Anna  28.0   Prague  50000.0   True\n",
              "1            2      Petr  35.0     Brno  62000.0   True\n",
              "2            3       Eva  22.0  Ostrava  45000.0   True\n",
              "3            4     Tomáš  30.0    Plzeň  52000.0   True\n",
              "4            5      Jana  27.0  Liberec  48000.0   True\n",
              "..         ...       ...   ...      ...      ...    ...\n",
              "87          88       Ema  24.0  Ostrava  44000.0   True\n",
              "88          89      Oleg  30.0     Brno  52000.0   True\n",
              "89          90     Vanda  33.0   Prague  57000.0   True\n",
              "90          91  Jindřich  41.0    Plzeň  71000.0   True\n",
              "91          92     Pavla  37.0   Prague  54000.0    NaN\n",
              "\n",
              "[90 rows x 6 columns]"
            ]
          },
          "execution_count": 104,
          "metadata": {},
          "output_type": "execute_result"
        }
      ],
      "source": [
        "df_people[~(df_people[\"Name\"] == 'Hana')]"
      ]
    },
    {
      "cell_type": "markdown",
      "metadata": {
        "id": "tTSdMsWpiIbe"
      },
      "source": [
        " - lze také filtrovat na základě zjištění, zda je hodnota obsažena ve výčtu jiných hodnot"
      ]
    },
    {
      "cell_type": "code",
      "execution_count": 105,
      "metadata": {
        "id": "G3G14OvCiJUw"
      },
      "outputs": [
        {
          "data": {
            "text/html": [
              "<div>\n",
              "<style scoped>\n",
              "    .dataframe tbody tr th:only-of-type {\n",
              "        vertical-align: middle;\n",
              "    }\n",
              "\n",
              "    .dataframe tbody tr th {\n",
              "        vertical-align: top;\n",
              "    }\n",
              "\n",
              "    .dataframe thead th {\n",
              "        text-align: right;\n",
              "    }\n",
              "</style>\n",
              "<table border=\"1\" class=\"dataframe\">\n",
              "  <thead>\n",
              "    <tr style=\"text-align: right;\">\n",
              "      <th></th>\n",
              "      <th>PersonalId</th>\n",
              "      <th>Name</th>\n",
              "      <th>Age</th>\n",
              "      <th>City</th>\n",
              "      <th>Salary</th>\n",
              "      <th>Active</th>\n",
              "    </tr>\n",
              "  </thead>\n",
              "  <tbody>\n",
              "    <tr>\n",
              "      <th>9</th>\n",
              "      <td>10</td>\n",
              "      <td>Jiří</td>\n",
              "      <td>29.0</td>\n",
              "      <td>Prague</td>\n",
              "      <td>53000.0</td>\n",
              "      <td>True</td>\n",
              "    </tr>\n",
              "    <tr>\n",
              "      <th>29</th>\n",
              "      <td>30</td>\n",
              "      <td>Lenka</td>\n",
              "      <td>23.0</td>\n",
              "      <td>Plzeň</td>\n",
              "      <td>45000.0</td>\n",
              "      <td>True</td>\n",
              "    </tr>\n",
              "    <tr>\n",
              "      <th>49</th>\n",
              "      <td>50</td>\n",
              "      <td>Martin</td>\n",
              "      <td>40.0</td>\n",
              "      <td>Ostrava</td>\n",
              "      <td>71000.0</td>\n",
              "      <td>NaN</td>\n",
              "    </tr>\n",
              "    <tr>\n",
              "      <th>69</th>\n",
              "      <td>70</td>\n",
              "      <td>Lenka</td>\n",
              "      <td>34.0</td>\n",
              "      <td>Brno</td>\n",
              "      <td>54000.0</td>\n",
              "      <td>True</td>\n",
              "    </tr>\n",
              "  </tbody>\n",
              "</table>\n",
              "</div>"
            ],
            "text/plain": [
              "    PersonalId    Name   Age     City   Salary Active\n",
              "9           10    Jiří  29.0   Prague  53000.0   True\n",
              "29          30   Lenka  23.0    Plzeň  45000.0   True\n",
              "49          50  Martin  40.0  Ostrava  71000.0    NaN\n",
              "69          70   Lenka  34.0     Brno  54000.0   True"
            ]
          },
          "execution_count": 105,
          "metadata": {},
          "output_type": "execute_result"
        }
      ],
      "source": [
        "vip_jmena = ['Jiří', 'Lenka', 'Martin']\n",
        "df_people[df_people['Name'].isin(vip_jmena)]"
      ]
    },
    {
      "cell_type": "markdown",
      "metadata": {
        "id": "qJ6120kfjIFD"
      },
      "source": [
        " - jako poslední si ukážeme způsob, jak zjistit, zda text obsahuje uvedenou část"
      ]
    },
    {
      "cell_type": "code",
      "execution_count": 107,
      "metadata": {
        "id": "G6X21s2AjH67"
      },
      "outputs": [
        {
          "data": {
            "text/html": [
              "<div>\n",
              "<style scoped>\n",
              "    .dataframe tbody tr th:only-of-type {\n",
              "        vertical-align: middle;\n",
              "    }\n",
              "\n",
              "    .dataframe tbody tr th {\n",
              "        vertical-align: top;\n",
              "    }\n",
              "\n",
              "    .dataframe thead th {\n",
              "        text-align: right;\n",
              "    }\n",
              "</style>\n",
              "<table border=\"1\" class=\"dataframe\">\n",
              "  <thead>\n",
              "    <tr style=\"text-align: right;\">\n",
              "      <th></th>\n",
              "      <th>PersonalId</th>\n",
              "      <th>Name</th>\n",
              "      <th>Age</th>\n",
              "      <th>City</th>\n",
              "      <th>Salary</th>\n",
              "      <th>Active</th>\n",
              "    </tr>\n",
              "  </thead>\n",
              "  <tbody>\n",
              "    <tr>\n",
              "      <th>23</th>\n",
              "      <td>24</td>\n",
              "      <td>Dominik</td>\n",
              "      <td>26.0</td>\n",
              "      <td>Ostrava</td>\n",
              "      <td>44000.0</td>\n",
              "      <td>True</td>\n",
              "    </tr>\n",
              "    <tr>\n",
              "      <th>33</th>\n",
              "      <td>34</td>\n",
              "      <td>Kateřina</td>\n",
              "      <td>32.0</td>\n",
              "      <td>Brno</td>\n",
              "      <td>52000.0</td>\n",
              "      <td>True</td>\n",
              "    </tr>\n",
              "    <tr>\n",
              "      <th>49</th>\n",
              "      <td>50</td>\n",
              "      <td>Martin</td>\n",
              "      <td>40.0</td>\n",
              "      <td>Ostrava</td>\n",
              "      <td>71000.0</td>\n",
              "      <td>NaN</td>\n",
              "    </tr>\n",
              "    <tr>\n",
              "      <th>67</th>\n",
              "      <td>68</td>\n",
              "      <td>Nina</td>\n",
              "      <td>26.0</td>\n",
              "      <td>Prague</td>\n",
              "      <td>50000.0</td>\n",
              "      <td>True</td>\n",
              "    </tr>\n",
              "    <tr>\n",
              "      <th>90</th>\n",
              "      <td>91</td>\n",
              "      <td>Jindřich</td>\n",
              "      <td>41.0</td>\n",
              "      <td>Plzeň</td>\n",
              "      <td>71000.0</td>\n",
              "      <td>True</td>\n",
              "    </tr>\n",
              "  </tbody>\n",
              "</table>\n",
              "</div>"
            ],
            "text/plain": [
              "    PersonalId      Name   Age     City   Salary Active\n",
              "23          24   Dominik  26.0  Ostrava  44000.0   True\n",
              "33          34  Kateřina  32.0     Brno  52000.0   True\n",
              "49          50    Martin  40.0  Ostrava  71000.0    NaN\n",
              "67          68      Nina  26.0   Prague  50000.0   True\n",
              "90          91  Jindřich  41.0    Plzeň  71000.0   True"
            ]
          },
          "execution_count": 107,
          "metadata": {},
          "output_type": "execute_result"
        }
      ],
      "source": [
        "df_people[df_people['Name'].str.contains('in')]"
      ]
    },
    {
      "cell_type": "code",
      "execution_count": 117,
      "metadata": {},
      "outputs": [
        {
          "data": {
            "text/html": [
              "<div>\n",
              "<style scoped>\n",
              "    .dataframe tbody tr th:only-of-type {\n",
              "        vertical-align: middle;\n",
              "    }\n",
              "\n",
              "    .dataframe tbody tr th {\n",
              "        vertical-align: top;\n",
              "    }\n",
              "\n",
              "    .dataframe thead th {\n",
              "        text-align: right;\n",
              "    }\n",
              "</style>\n",
              "<table border=\"1\" class=\"dataframe\">\n",
              "  <thead>\n",
              "    <tr style=\"text-align: right;\">\n",
              "      <th></th>\n",
              "      <th>PersonalId</th>\n",
              "      <th>Name</th>\n",
              "      <th>Age</th>\n",
              "      <th>City</th>\n",
              "      <th>Salary</th>\n",
              "      <th>Active</th>\n",
              "    </tr>\n",
              "  </thead>\n",
              "  <tbody>\n",
              "    <tr>\n",
              "      <th>16</th>\n",
              "      <td>17</td>\n",
              "      <td>Zdeněk</td>\n",
              "      <td>41.0</td>\n",
              "      <td>Brno</td>\n",
              "      <td>74000.0</td>\n",
              "      <td>True</td>\n",
              "    </tr>\n",
              "    <tr>\n",
              "      <th>40</th>\n",
              "      <td>41</td>\n",
              "      <td>Rostislav</td>\n",
              "      <td>41.0</td>\n",
              "      <td>Plzeň</td>\n",
              "      <td>72000.0</td>\n",
              "      <td>True</td>\n",
              "    </tr>\n",
              "    <tr>\n",
              "      <th>60</th>\n",
              "      <td>61</td>\n",
              "      <td>Stanislav</td>\n",
              "      <td>41.0</td>\n",
              "      <td>Ostrava</td>\n",
              "      <td>74000.0</td>\n",
              "      <td>NaN</td>\n",
              "    </tr>\n",
              "    <tr>\n",
              "      <th>90</th>\n",
              "      <td>91</td>\n",
              "      <td>Jindřich</td>\n",
              "      <td>41.0</td>\n",
              "      <td>Plzeň</td>\n",
              "      <td>71000.0</td>\n",
              "      <td>True</td>\n",
              "    </tr>\n",
              "  </tbody>\n",
              "</table>\n",
              "</div>"
            ],
            "text/plain": [
              "    PersonalId       Name   Age     City   Salary Active\n",
              "16          17     Zdeněk  41.0     Brno  74000.0   True\n",
              "40          41  Rostislav  41.0    Plzeň  72000.0   True\n",
              "60          61  Stanislav  41.0  Ostrava  74000.0    NaN\n",
              "90          91   Jindřich  41.0    Plzeň  71000.0   True"
            ]
          },
          "execution_count": 117,
          "metadata": {},
          "output_type": "execute_result"
        }
      ],
      "source": [
        "df_people[(df_people['Salary'] > 50000) & (df_people['Age'] > 40)]"
      ]
    },
    {
      "cell_type": "code",
      "execution_count": 119,
      "metadata": {},
      "outputs": [
        {
          "data": {
            "text/plain": [
              "City\n",
              "Plzeň      2\n",
              "Brno       1\n",
              "Ostrava    1\n",
              "Liberec    0\n",
              "Prague     0\n",
              "Name: count, dtype: int64"
            ]
          },
          "execution_count": 119,
          "metadata": {},
          "output_type": "execute_result"
        }
      ],
      "source": [
        "df_people[(df_people['Salary'] > 50000) & (df_people['Age'] > 40)]['City'].value_counts()\n"
      ]
    },
    {
      "cell_type": "code",
      "execution_count": 115,
      "metadata": {},
      "outputs": [
        {
          "data": {
            "text/plain": [
              "Index(['PersonalId', 'Name', 'Age', 'City', 'Salary', 'Active'], dtype='object')"
            ]
          },
          "execution_count": 115,
          "metadata": {},
          "output_type": "execute_result"
        }
      ],
      "source": [
        "df_people.columns"
      ]
    },
    {
      "cell_type": "markdown",
      "metadata": {
        "id": "ALMz-ic7kZhK"
      },
      "source": [
        "- Výběr řádků a sloupců (pomocí loc, iloc).\n",
        "- Filtrování a podmíněné výběry.\n",
        "- Přidávání, úprava a mazání sloupců."
      ]
    },
    {
      "cell_type": "markdown",
      "metadata": {
        "id": "zdDNDXm_rcK1"
      },
      "source": [
        "### Práce s chybějícími hodnotami"
      ]
    },
    {
      "cell_type": "markdown",
      "metadata": {
        "id": "XB8B1aq1rwpM"
      },
      "source": [
        "| Operace                        | Příkaz                                                                |\n",
        "|--------------------------------|-----------------------------------------------------------------------|\n",
        "| Kontrola NaN                   | `df.isna()`                                                          |\n",
        "| Počet NaN                      | `df.isna().sum()`                                                    |\n",
        "| Odstranění řádků s NaN         | `df.dropna()`                                                        |\n",
        "| Odstranění sloupců s NaN       | `df.dropna(axis=1)`                                                  |\n",
        "| Nahrazení konkrétní hodnotou   | `df.fillna(hodnota)`                                                 |\n",
        "| Nahrazení průměrnou hodnotou   | `df.fillna(df[\"sloupec\"].mean())`                                    |\n",
        "| Forward fill (nahradit dopředu)| `df.fillna(method=\"ffill\")`                                          |\n",
        "| Filtrování řádků s NaN         | `df[df.isna().any(axis=1)]`                                          |\n",
        "| Filtrování řádků bez NaN       | `df[df.notna().all(axis=1)]`                                         |"
      ]
    },
    {
      "cell_type": "markdown",
      "metadata": {
        "id": "dvEDiikTr-24"
      },
      "source": [
        " - chybějící hodnoty"
      ]
    },
    {
      "cell_type": "code",
      "execution_count": 120,
      "metadata": {
        "id": "KHiJz7qvr_J9"
      },
      "outputs": [
        {
          "data": {
            "text/html": [
              "<div>\n",
              "<style scoped>\n",
              "    .dataframe tbody tr th:only-of-type {\n",
              "        vertical-align: middle;\n",
              "    }\n",
              "\n",
              "    .dataframe tbody tr th {\n",
              "        vertical-align: top;\n",
              "    }\n",
              "\n",
              "    .dataframe thead th {\n",
              "        text-align: right;\n",
              "    }\n",
              "</style>\n",
              "<table border=\"1\" class=\"dataframe\">\n",
              "  <thead>\n",
              "    <tr style=\"text-align: right;\">\n",
              "      <th></th>\n",
              "      <th>PersonalId</th>\n",
              "      <th>Name</th>\n",
              "      <th>Age</th>\n",
              "      <th>City</th>\n",
              "      <th>Salary</th>\n",
              "      <th>Active</th>\n",
              "    </tr>\n",
              "  </thead>\n",
              "  <tbody>\n",
              "    <tr>\n",
              "      <th>71</th>\n",
              "      <td>False</td>\n",
              "      <td>False</td>\n",
              "      <td>False</td>\n",
              "      <td>False</td>\n",
              "      <td>False</td>\n",
              "      <td>False</td>\n",
              "    </tr>\n",
              "    <tr>\n",
              "      <th>0</th>\n",
              "      <td>False</td>\n",
              "      <td>False</td>\n",
              "      <td>False</td>\n",
              "      <td>False</td>\n",
              "      <td>False</td>\n",
              "      <td>False</td>\n",
              "    </tr>\n",
              "    <tr>\n",
              "      <th>63</th>\n",
              "      <td>False</td>\n",
              "      <td>False</td>\n",
              "      <td>False</td>\n",
              "      <td>False</td>\n",
              "      <td>False</td>\n",
              "      <td>False</td>\n",
              "    </tr>\n",
              "    <tr>\n",
              "      <th>65</th>\n",
              "      <td>False</td>\n",
              "      <td>False</td>\n",
              "      <td>False</td>\n",
              "      <td>False</td>\n",
              "      <td>False</td>\n",
              "      <td>False</td>\n",
              "    </tr>\n",
              "    <tr>\n",
              "      <th>11</th>\n",
              "      <td>False</td>\n",
              "      <td>False</td>\n",
              "      <td>False</td>\n",
              "      <td>False</td>\n",
              "      <td>True</td>\n",
              "      <td>False</td>\n",
              "    </tr>\n",
              "  </tbody>\n",
              "</table>\n",
              "</div>"
            ],
            "text/plain": [
              "    PersonalId   Name    Age   City  Salary  Active\n",
              "71       False  False  False  False   False   False\n",
              "0        False  False  False  False   False   False\n",
              "63       False  False  False  False   False   False\n",
              "65       False  False  False  False   False   False\n",
              "11       False  False  False  False    True   False"
            ]
          },
          "execution_count": 120,
          "metadata": {},
          "output_type": "execute_result"
        }
      ],
      "source": [
        "df_people.sample(5).isna()"
      ]
    },
    {
      "cell_type": "markdown",
      "metadata": {
        "id": "U3QDB-EnsLS1"
      },
      "source": [
        " - počet chybějících hodnot po sloupcích"
      ]
    },
    {
      "cell_type": "code",
      "execution_count": 121,
      "metadata": {
        "id": "sp2aVMPhsLoU"
      },
      "outputs": [
        {
          "data": {
            "text/plain": [
              "PersonalId     0\n",
              "Name           0\n",
              "Age            0\n",
              "City           0\n",
              "Salary         3\n",
              "Active        21\n",
              "dtype: int64"
            ]
          },
          "execution_count": 121,
          "metadata": {},
          "output_type": "execute_result"
        }
      ],
      "source": [
        "df_people.isna().sum()"
      ]
    },
    {
      "cell_type": "markdown",
      "metadata": {
        "id": "sy3czjtMsXpI"
      },
      "source": [
        " - odstranění všech řádků s alespoň jednou chybějící hodnotou"
      ]
    },
    {
      "cell_type": "code",
      "execution_count": 122,
      "metadata": {
        "id": "C33ZuMR7sX_k"
      },
      "outputs": [
        {
          "data": {
            "text/html": [
              "<div>\n",
              "<style scoped>\n",
              "    .dataframe tbody tr th:only-of-type {\n",
              "        vertical-align: middle;\n",
              "    }\n",
              "\n",
              "    .dataframe tbody tr th {\n",
              "        vertical-align: top;\n",
              "    }\n",
              "\n",
              "    .dataframe thead th {\n",
              "        text-align: right;\n",
              "    }\n",
              "</style>\n",
              "<table border=\"1\" class=\"dataframe\">\n",
              "  <thead>\n",
              "    <tr style=\"text-align: right;\">\n",
              "      <th></th>\n",
              "      <th>PersonalId</th>\n",
              "      <th>Name</th>\n",
              "      <th>Age</th>\n",
              "      <th>City</th>\n",
              "      <th>Salary</th>\n",
              "      <th>Active</th>\n",
              "    </tr>\n",
              "  </thead>\n",
              "  <tbody>\n",
              "    <tr>\n",
              "      <th>0</th>\n",
              "      <td>1</td>\n",
              "      <td>Anna</td>\n",
              "      <td>28.0</td>\n",
              "      <td>Prague</td>\n",
              "      <td>50000.0</td>\n",
              "      <td>True</td>\n",
              "    </tr>\n",
              "    <tr>\n",
              "      <th>1</th>\n",
              "      <td>2</td>\n",
              "      <td>Petr</td>\n",
              "      <td>35.0</td>\n",
              "      <td>Brno</td>\n",
              "      <td>62000.0</td>\n",
              "      <td>True</td>\n",
              "    </tr>\n",
              "    <tr>\n",
              "      <th>2</th>\n",
              "      <td>3</td>\n",
              "      <td>Eva</td>\n",
              "      <td>22.0</td>\n",
              "      <td>Ostrava</td>\n",
              "      <td>45000.0</td>\n",
              "      <td>True</td>\n",
              "    </tr>\n",
              "    <tr>\n",
              "      <th>3</th>\n",
              "      <td>4</td>\n",
              "      <td>Tomáš</td>\n",
              "      <td>30.0</td>\n",
              "      <td>Plzeň</td>\n",
              "      <td>52000.0</td>\n",
              "      <td>True</td>\n",
              "    </tr>\n",
              "    <tr>\n",
              "      <th>4</th>\n",
              "      <td>5</td>\n",
              "      <td>Jana</td>\n",
              "      <td>27.0</td>\n",
              "      <td>Liberec</td>\n",
              "      <td>48000.0</td>\n",
              "      <td>True</td>\n",
              "    </tr>\n",
              "    <tr>\n",
              "      <th>...</th>\n",
              "      <td>...</td>\n",
              "      <td>...</td>\n",
              "      <td>...</td>\n",
              "      <td>...</td>\n",
              "      <td>...</td>\n",
              "      <td>...</td>\n",
              "    </tr>\n",
              "    <tr>\n",
              "      <th>86</th>\n",
              "      <td>87</td>\n",
              "      <td>Johana</td>\n",
              "      <td>28.0</td>\n",
              "      <td>Liberec</td>\n",
              "      <td>46000.0</td>\n",
              "      <td>True</td>\n",
              "    </tr>\n",
              "    <tr>\n",
              "      <th>87</th>\n",
              "      <td>88</td>\n",
              "      <td>Ema</td>\n",
              "      <td>24.0</td>\n",
              "      <td>Ostrava</td>\n",
              "      <td>44000.0</td>\n",
              "      <td>True</td>\n",
              "    </tr>\n",
              "    <tr>\n",
              "      <th>88</th>\n",
              "      <td>89</td>\n",
              "      <td>Oleg</td>\n",
              "      <td>30.0</td>\n",
              "      <td>Brno</td>\n",
              "      <td>52000.0</td>\n",
              "      <td>True</td>\n",
              "    </tr>\n",
              "    <tr>\n",
              "      <th>89</th>\n",
              "      <td>90</td>\n",
              "      <td>Vanda</td>\n",
              "      <td>33.0</td>\n",
              "      <td>Prague</td>\n",
              "      <td>57000.0</td>\n",
              "      <td>True</td>\n",
              "    </tr>\n",
              "    <tr>\n",
              "      <th>90</th>\n",
              "      <td>91</td>\n",
              "      <td>Jindřich</td>\n",
              "      <td>41.0</td>\n",
              "      <td>Plzeň</td>\n",
              "      <td>71000.0</td>\n",
              "      <td>True</td>\n",
              "    </tr>\n",
              "  </tbody>\n",
              "</table>\n",
              "<p>68 rows × 6 columns</p>\n",
              "</div>"
            ],
            "text/plain": [
              "    PersonalId      Name   Age     City   Salary Active\n",
              "0            1      Anna  28.0   Prague  50000.0   True\n",
              "1            2      Petr  35.0     Brno  62000.0   True\n",
              "2            3       Eva  22.0  Ostrava  45000.0   True\n",
              "3            4     Tomáš  30.0    Plzeň  52000.0   True\n",
              "4            5      Jana  27.0  Liberec  48000.0   True\n",
              "..         ...       ...   ...      ...      ...    ...\n",
              "86          87    Johana  28.0  Liberec  46000.0   True\n",
              "87          88       Ema  24.0  Ostrava  44000.0   True\n",
              "88          89      Oleg  30.0     Brno  52000.0   True\n",
              "89          90     Vanda  33.0   Prague  57000.0   True\n",
              "90          91  Jindřich  41.0    Plzeň  71000.0   True\n",
              "\n",
              "[68 rows x 6 columns]"
            ]
          },
          "execution_count": 122,
          "metadata": {},
          "output_type": "execute_result"
        }
      ],
      "source": [
        "df_people.dropna()"
      ]
    },
    {
      "cell_type": "markdown",
      "metadata": {
        "id": "kC_94rIjsvMQ"
      },
      "source": [
        " - odstranění sloupců s alespoň jednou chybějící hodnotou"
      ]
    },
    {
      "cell_type": "code",
      "execution_count": 123,
      "metadata": {
        "id": "7zsODynpsm0D"
      },
      "outputs": [
        {
          "data": {
            "text/html": [
              "<div>\n",
              "<style scoped>\n",
              "    .dataframe tbody tr th:only-of-type {\n",
              "        vertical-align: middle;\n",
              "    }\n",
              "\n",
              "    .dataframe tbody tr th {\n",
              "        vertical-align: top;\n",
              "    }\n",
              "\n",
              "    .dataframe thead th {\n",
              "        text-align: right;\n",
              "    }\n",
              "</style>\n",
              "<table border=\"1\" class=\"dataframe\">\n",
              "  <thead>\n",
              "    <tr style=\"text-align: right;\">\n",
              "      <th></th>\n",
              "      <th>PersonalId</th>\n",
              "      <th>Name</th>\n",
              "      <th>Age</th>\n",
              "      <th>City</th>\n",
              "    </tr>\n",
              "  </thead>\n",
              "  <tbody>\n",
              "    <tr>\n",
              "      <th>0</th>\n",
              "      <td>1</td>\n",
              "      <td>Anna</td>\n",
              "      <td>28.0</td>\n",
              "      <td>Prague</td>\n",
              "    </tr>\n",
              "    <tr>\n",
              "      <th>1</th>\n",
              "      <td>2</td>\n",
              "      <td>Petr</td>\n",
              "      <td>35.0</td>\n",
              "      <td>Brno</td>\n",
              "    </tr>\n",
              "    <tr>\n",
              "      <th>2</th>\n",
              "      <td>3</td>\n",
              "      <td>Eva</td>\n",
              "      <td>22.0</td>\n",
              "      <td>Ostrava</td>\n",
              "    </tr>\n",
              "    <tr>\n",
              "      <th>3</th>\n",
              "      <td>4</td>\n",
              "      <td>Tomáš</td>\n",
              "      <td>30.0</td>\n",
              "      <td>Plzeň</td>\n",
              "    </tr>\n",
              "    <tr>\n",
              "      <th>4</th>\n",
              "      <td>5</td>\n",
              "      <td>Jana</td>\n",
              "      <td>27.0</td>\n",
              "      <td>Liberec</td>\n",
              "    </tr>\n",
              "    <tr>\n",
              "      <th>...</th>\n",
              "      <td>...</td>\n",
              "      <td>...</td>\n",
              "      <td>...</td>\n",
              "      <td>...</td>\n",
              "    </tr>\n",
              "    <tr>\n",
              "      <th>87</th>\n",
              "      <td>88</td>\n",
              "      <td>Ema</td>\n",
              "      <td>24.0</td>\n",
              "      <td>Ostrava</td>\n",
              "    </tr>\n",
              "    <tr>\n",
              "      <th>88</th>\n",
              "      <td>89</td>\n",
              "      <td>Oleg</td>\n",
              "      <td>30.0</td>\n",
              "      <td>Brno</td>\n",
              "    </tr>\n",
              "    <tr>\n",
              "      <th>89</th>\n",
              "      <td>90</td>\n",
              "      <td>Vanda</td>\n",
              "      <td>33.0</td>\n",
              "      <td>Prague</td>\n",
              "    </tr>\n",
              "    <tr>\n",
              "      <th>90</th>\n",
              "      <td>91</td>\n",
              "      <td>Jindřich</td>\n",
              "      <td>41.0</td>\n",
              "      <td>Plzeň</td>\n",
              "    </tr>\n",
              "    <tr>\n",
              "      <th>91</th>\n",
              "      <td>92</td>\n",
              "      <td>Pavla</td>\n",
              "      <td>37.0</td>\n",
              "      <td>Prague</td>\n",
              "    </tr>\n",
              "  </tbody>\n",
              "</table>\n",
              "<p>92 rows × 4 columns</p>\n",
              "</div>"
            ],
            "text/plain": [
              "    PersonalId      Name   Age     City\n",
              "0            1      Anna  28.0   Prague\n",
              "1            2      Petr  35.0     Brno\n",
              "2            3       Eva  22.0  Ostrava\n",
              "3            4     Tomáš  30.0    Plzeň\n",
              "4            5      Jana  27.0  Liberec\n",
              "..         ...       ...   ...      ...\n",
              "87          88       Ema  24.0  Ostrava\n",
              "88          89      Oleg  30.0     Brno\n",
              "89          90     Vanda  33.0   Prague\n",
              "90          91  Jindřich  41.0    Plzeň\n",
              "91          92     Pavla  37.0   Prague\n",
              "\n",
              "[92 rows x 4 columns]"
            ]
          },
          "execution_count": 123,
          "metadata": {},
          "output_type": "execute_result"
        }
      ],
      "source": [
        "df_people.dropna(axis=1)"
      ]
    },
    {
      "cell_type": "markdown",
      "metadata": {
        "id": "0_QvZd0Gt2rJ"
      },
      "source": [
        " - nahrazení konkrétní hodnotou"
      ]
    },
    {
      "cell_type": "code",
      "execution_count": 124,
      "metadata": {
        "id": "rYe2VVO_t3Bn"
      },
      "outputs": [
        {
          "data": {
            "text/plain": [
              "0     50000.0\n",
              "1     62000.0\n",
              "2     45000.0\n",
              "3     52000.0\n",
              "4     48000.0\n",
              "       ...   \n",
              "87    44000.0\n",
              "88    52000.0\n",
              "89    57000.0\n",
              "90    71000.0\n",
              "91    54000.0\n",
              "Name: Salary, Length: 92, dtype: float64"
            ]
          },
          "execution_count": 124,
          "metadata": {},
          "output_type": "execute_result"
        }
      ],
      "source": [
        "mean_salary = df_people[\"Salary\"].fillna(0)\n",
        "df_people[\"Salary\"].fillna(mean_salary)"
      ]
    },
    {
      "cell_type": "markdown",
      "metadata": {
        "id": "QYbBPhFqu0ft"
      },
      "source": [
        " - nahrazení vypočtenou hodnotou"
      ]
    },
    {
      "cell_type": "code",
      "execution_count": 125,
      "metadata": {
        "id": "0uk66ehpu0rh"
      },
      "outputs": [
        {
          "data": {
            "text/plain": [
              "np.float64(55056.1797752809)"
            ]
          },
          "execution_count": 125,
          "metadata": {},
          "output_type": "execute_result"
        }
      ],
      "source": [
        "df_people[\"Salary\"].mean()"
      ]
    },
    {
      "cell_type": "markdown",
      "metadata": {
        "id": "xfP_P-VjlXn4"
      },
      "source": [
        "## Agregace a transformace dat"
      ]
    },
    {
      "cell_type": "markdown",
      "metadata": {
        "id": "ss5z-IX4k7KS"
      },
      "source": [
        "### Agregační funkce"
      ]
    },
    {
      "cell_type": "markdown",
      "metadata": {
        "id": "Wt6WWgSVk6_p"
      },
      "source": [
        "| Funkce            | Popis                                  | Příklad použití                         |\n",
        "|--------------------|----------------------------------------|-----------------------------------------|\n",
        "| `.sum()`          | Součet hodnot                         | df[\"Plat\"].sum()                       |\n",
        "| `.mean()`         | Průměrná hodnota                      | df[\"Plat\"].mean()                      |\n",
        "| `.median()`       | Mediánová hodnota                     | df[\"Plat\"].median()                    |\n",
        "| `.min()`          | Nejmenší hodnota                      | df[\"Věk\"].min()                        |\n",
        "| `.max()`          | Největší hodnota                      | df[\"Věk\"].max()                        |\n",
        "| `.count()`        | Počet hodnot                          | df[\"Město\"].count()                    |\n",
        "| `.std()`          | Směrodatná odchylka                   | df[\"Plat\"].std()                       |\n",
        "| `.var()`          | Variance                              | df[\"Plat\"].var()                       |\n",
        "| `.prod()`         | Součin všech hodnot                   | df[\"Plat\"].prod()                      |\n",
        "| `.agg()`          | Aplikace více agregací najednou       | df[\"Plat\"].agg(['sum', 'mean'])        |\n",
        "| `.quantile()`     | Hodnota kvantilu                      | df[\"Plat\"].quantile(0.75)              |"
      ]
    },
    {
      "cell_type": "code",
      "execution_count": 126,
      "metadata": {
        "id": "b3MtmvWKm3tG"
      },
      "outputs": [
        {
          "data": {
            "text/plain": [
              "np.float64(55056.1797752809)"
            ]
          },
          "execution_count": 126,
          "metadata": {},
          "output_type": "execute_result"
        }
      ],
      "source": [
        "df_people[\"Salary\"].mean()"
      ]
    },
    {
      "cell_type": "code",
      "execution_count": 127,
      "metadata": {
        "id": "CQVt4QIvozh_"
      },
      "outputs": [
        {
          "data": {
            "text/plain": [
              "np.float64(54000.0)"
            ]
          },
          "execution_count": 127,
          "metadata": {},
          "output_type": "execute_result"
        }
      ],
      "source": [
        "df_people[\"Salary\"].median()"
      ]
    },
    {
      "cell_type": "code",
      "execution_count": 128,
      "metadata": {
        "id": "yEx4Iluyo4nt"
      },
      "outputs": [
        {
          "data": {
            "text/plain": [
              "np.float64(22.0)"
            ]
          },
          "execution_count": 128,
          "metadata": {},
          "output_type": "execute_result"
        }
      ],
      "source": [
        "df_people[\"Age\"].min()"
      ]
    },
    {
      "cell_type": "code",
      "execution_count": 129,
      "metadata": {
        "id": "jo53JqBno4ZB"
      },
      "outputs": [
        {
          "data": {
            "text/plain": [
              "np.float64(41.0)"
            ]
          },
          "execution_count": 129,
          "metadata": {},
          "output_type": "execute_result"
        }
      ],
      "source": [
        "df_people[\"Age\"].max()"
      ]
    },
    {
      "cell_type": "code",
      "execution_count": 130,
      "metadata": {
        "id": "aU5sHle2m2kq"
      },
      "outputs": [
        {
          "data": {
            "text/plain": [
              "np.int64(71)"
            ]
          },
          "execution_count": 130,
          "metadata": {},
          "output_type": "execute_result"
        }
      ],
      "source": [
        "df_people['Active'].count()"
      ]
    },
    {
      "cell_type": "markdown",
      "metadata": {
        "id": "I2Y6WC7HlbgU"
      },
      "source": [
        "- Funkce jako groupby(), pivot_table(), merge(), join().\n",
        "- Převod a manipulace číselných, textových nebo časových dat."
      ]
    },
    {
      "cell_type": "markdown",
      "metadata": {
        "id": "IzW4BmvJp1Zf"
      },
      "source": [
        "### Seskupení dat"
      ]
    },
    {
      "cell_type": "markdown",
      "metadata": {
        "id": "4KVpqYW2p_EM"
      },
      "source": [
        " - pomocí groupby můžeme data seskupit a využít agregační funkce"
      ]
    },
    {
      "cell_type": "code",
      "execution_count": 131,
      "metadata": {
        "id": "DN6cTmdKqJxU"
      },
      "outputs": [
        {
          "data": {
            "text/plain": [
              "City\n",
              "Brno       59058.823529\n",
              "Liberec    52375.000000\n",
              "Ostrava    56050.000000\n",
              "Plzeň      55375.000000\n",
              "Prague     52550.000000\n",
              "Name: Salary, dtype: float64"
            ]
          },
          "execution_count": 131,
          "metadata": {},
          "output_type": "execute_result"
        }
      ],
      "source": [
        "df_people.groupby(\"City\", observed=True)[\"Salary\"].mean() # Jednoduchá agregace"
      ]
    },
    {
      "cell_type": "code",
      "execution_count": 132,
      "metadata": {
        "id": "_AMYkXoqqTKF"
      },
      "outputs": [
        {
          "data": {
            "text/plain": [
              "City    Age \n",
              "Brno    26.0     49000.0\n",
              "        27.0     48000.0\n",
              "        29.0     54000.0\n",
              "        30.0     52000.0\n",
              "        31.0    112000.0\n",
              "                  ...   \n",
              "Prague  31.0     55000.0\n",
              "        33.0    164000.0\n",
              "        37.0     54000.0\n",
              "        38.0    135000.0\n",
              "        40.0     63000.0\n",
              "Name: Salary, Length: 62, dtype: float64"
            ]
          },
          "execution_count": 132,
          "metadata": {},
          "output_type": "execute_result"
        }
      ],
      "source": [
        "df_people.groupby([\"City\", \"Age\"], observed=True)[\"Salary\"].sum() # Víceklíčová agregace"
      ]
    },
    {
      "cell_type": "code",
      "execution_count": 133,
      "metadata": {
        "id": "0NjyjOHtqiWG"
      },
      "outputs": [
        {
          "data": {
            "text/html": [
              "<div>\n",
              "<style scoped>\n",
              "    .dataframe tbody tr th:only-of-type {\n",
              "        vertical-align: middle;\n",
              "    }\n",
              "\n",
              "    .dataframe tbody tr th {\n",
              "        vertical-align: top;\n",
              "    }\n",
              "\n",
              "    .dataframe thead th {\n",
              "        text-align: right;\n",
              "    }\n",
              "</style>\n",
              "<table border=\"1\" class=\"dataframe\">\n",
              "  <thead>\n",
              "    <tr style=\"text-align: right;\">\n",
              "      <th></th>\n",
              "      <th>Age</th>\n",
              "      <th>Salary</th>\n",
              "    </tr>\n",
              "    <tr>\n",
              "      <th>City</th>\n",
              "      <th></th>\n",
              "      <th></th>\n",
              "    </tr>\n",
              "  </thead>\n",
              "  <tbody>\n",
              "    <tr>\n",
              "      <th>Brno</th>\n",
              "      <td>33.277778</td>\n",
              "      <td>1004000.0</td>\n",
              "    </tr>\n",
              "    <tr>\n",
              "      <th>Liberec</th>\n",
              "      <td>29.823529</td>\n",
              "      <td>838000.0</td>\n",
              "    </tr>\n",
              "    <tr>\n",
              "      <th>Ostrava</th>\n",
              "      <td>31.650000</td>\n",
              "      <td>1121000.0</td>\n",
              "    </tr>\n",
              "    <tr>\n",
              "      <th>Plzeň</th>\n",
              "      <td>31.250000</td>\n",
              "      <td>886000.0</td>\n",
              "    </tr>\n",
              "    <tr>\n",
              "      <th>Prague</th>\n",
              "      <td>30.428571</td>\n",
              "      <td>1051000.0</td>\n",
              "    </tr>\n",
              "  </tbody>\n",
              "</table>\n",
              "</div>"
            ],
            "text/plain": [
              "               Age     Salary\n",
              "City                         \n",
              "Brno     33.277778  1004000.0\n",
              "Liberec  29.823529   838000.0\n",
              "Ostrava  31.650000  1121000.0\n",
              "Plzeň    31.250000   886000.0\n",
              "Prague   30.428571  1051000.0"
            ]
          },
          "execution_count": 133,
          "metadata": {},
          "output_type": "execute_result"
        }
      ],
      "source": [
        "df_people.groupby(\"City\", observed=True).agg({\"Age\": \"mean\", \"Salary\": \"sum\"}) # Použití více agregací"
      ]
    },
    {
      "cell_type": "code",
      "execution_count": 134,
      "metadata": {
        "id": "WkDD6RpKqswe"
      },
      "outputs": [
        {
          "data": {
            "text/html": [
              "<div>\n",
              "<style scoped>\n",
              "    .dataframe tbody tr th:only-of-type {\n",
              "        vertical-align: middle;\n",
              "    }\n",
              "\n",
              "    .dataframe tbody tr th {\n",
              "        vertical-align: top;\n",
              "    }\n",
              "\n",
              "    .dataframe thead th {\n",
              "        text-align: right;\n",
              "    }\n",
              "</style>\n",
              "<table border=\"1\" class=\"dataframe\">\n",
              "  <thead>\n",
              "    <tr style=\"text-align: right;\">\n",
              "      <th></th>\n",
              "      <th>PersonalId</th>\n",
              "      <th>Name</th>\n",
              "      <th>Age</th>\n",
              "      <th>City</th>\n",
              "      <th>Salary</th>\n",
              "      <th>Active</th>\n",
              "    </tr>\n",
              "  </thead>\n",
              "  <tbody>\n",
              "    <tr>\n",
              "      <th>1</th>\n",
              "      <td>2</td>\n",
              "      <td>Petr</td>\n",
              "      <td>35.0</td>\n",
              "      <td>Brno</td>\n",
              "      <td>62000.0</td>\n",
              "      <td>True</td>\n",
              "    </tr>\n",
              "    <tr>\n",
              "      <th>6</th>\n",
              "      <td>7</td>\n",
              "      <td>Markéta</td>\n",
              "      <td>26.0</td>\n",
              "      <td>Brno</td>\n",
              "      <td>49000.0</td>\n",
              "      <td>True</td>\n",
              "    </tr>\n",
              "    <tr>\n",
              "      <th>11</th>\n",
              "      <td>12</td>\n",
              "      <td>Filip</td>\n",
              "      <td>31.0</td>\n",
              "      <td>Brno</td>\n",
              "      <td>NaN</td>\n",
              "      <td>True</td>\n",
              "    </tr>\n",
              "    <tr>\n",
              "      <th>16</th>\n",
              "      <td>17</td>\n",
              "      <td>Zdeněk</td>\n",
              "      <td>41.0</td>\n",
              "      <td>Brno</td>\n",
              "      <td>74000.0</td>\n",
              "      <td>True</td>\n",
              "    </tr>\n",
              "    <tr>\n",
              "      <th>21</th>\n",
              "      <td>22</td>\n",
              "      <td>Pavel</td>\n",
              "      <td>39.0</td>\n",
              "      <td>Brno</td>\n",
              "      <td>70000.0</td>\n",
              "      <td>True</td>\n",
              "    </tr>\n",
              "    <tr>\n",
              "      <th>27</th>\n",
              "      <td>28</td>\n",
              "      <td>Veronika</td>\n",
              "      <td>31.0</td>\n",
              "      <td>Brno</td>\n",
              "      <td>60000.0</td>\n",
              "      <td>NaN</td>\n",
              "    </tr>\n",
              "    <tr>\n",
              "      <th>33</th>\n",
              "      <td>34</td>\n",
              "      <td>Kateřina</td>\n",
              "      <td>32.0</td>\n",
              "      <td>Brno</td>\n",
              "      <td>52000.0</td>\n",
              "      <td>True</td>\n",
              "    </tr>\n",
              "    <tr>\n",
              "      <th>38</th>\n",
              "      <td>39</td>\n",
              "      <td>Antonín</td>\n",
              "      <td>29.0</td>\n",
              "      <td>Brno</td>\n",
              "      <td>54000.0</td>\n",
              "      <td>True</td>\n",
              "    </tr>\n",
              "    <tr>\n",
              "      <th>43</th>\n",
              "      <td>44</td>\n",
              "      <td>Karol</td>\n",
              "      <td>27.0</td>\n",
              "      <td>Brno</td>\n",
              "      <td>48000.0</td>\n",
              "      <td>NaN</td>\n",
              "    </tr>\n",
              "    <tr>\n",
              "      <th>50</th>\n",
              "      <td>51</td>\n",
              "      <td>Vojtěch</td>\n",
              "      <td>32.0</td>\n",
              "      <td>Brno</td>\n",
              "      <td>58000.0</td>\n",
              "      <td>True</td>\n",
              "    </tr>\n",
              "    <tr>\n",
              "      <th>54</th>\n",
              "      <td>55</td>\n",
              "      <td>Alex</td>\n",
              "      <td>31.0</td>\n",
              "      <td>Brno</td>\n",
              "      <td>52000.0</td>\n",
              "      <td>NaN</td>\n",
              "    </tr>\n",
              "    <tr>\n",
              "      <th>58</th>\n",
              "      <td>59</td>\n",
              "      <td>Radim</td>\n",
              "      <td>35.0</td>\n",
              "      <td>Brno</td>\n",
              "      <td>61000.0</td>\n",
              "      <td>NaN</td>\n",
              "    </tr>\n",
              "    <tr>\n",
              "      <th>63</th>\n",
              "      <td>64</td>\n",
              "      <td>Ivana</td>\n",
              "      <td>40.0</td>\n",
              "      <td>Brno</td>\n",
              "      <td>68000.0</td>\n",
              "      <td>True</td>\n",
              "    </tr>\n",
              "    <tr>\n",
              "      <th>69</th>\n",
              "      <td>70</td>\n",
              "      <td>Lenka</td>\n",
              "      <td>34.0</td>\n",
              "      <td>Brno</td>\n",
              "      <td>54000.0</td>\n",
              "      <td>True</td>\n",
              "    </tr>\n",
              "    <tr>\n",
              "      <th>75</th>\n",
              "      <td>76</td>\n",
              "      <td>Adam</td>\n",
              "      <td>40.0</td>\n",
              "      <td>Brno</td>\n",
              "      <td>70000.0</td>\n",
              "      <td>NaN</td>\n",
              "    </tr>\n",
              "    <tr>\n",
              "      <th>79</th>\n",
              "      <td>80</td>\n",
              "      <td>Tadeáš</td>\n",
              "      <td>34.0</td>\n",
              "      <td>Brno</td>\n",
              "      <td>62000.0</td>\n",
              "      <td>True</td>\n",
              "    </tr>\n",
              "    <tr>\n",
              "      <th>82</th>\n",
              "      <td>83</td>\n",
              "      <td>Jonáš</td>\n",
              "      <td>32.0</td>\n",
              "      <td>Brno</td>\n",
              "      <td>58000.0</td>\n",
              "      <td>True</td>\n",
              "    </tr>\n",
              "    <tr>\n",
              "      <th>88</th>\n",
              "      <td>89</td>\n",
              "      <td>Oleg</td>\n",
              "      <td>30.0</td>\n",
              "      <td>Brno</td>\n",
              "      <td>52000.0</td>\n",
              "      <td>True</td>\n",
              "    </tr>\n",
              "  </tbody>\n",
              "</table>\n",
              "</div>"
            ],
            "text/plain": [
              "    PersonalId      Name   Age  City   Salary Active\n",
              "1            2      Petr  35.0  Brno  62000.0   True\n",
              "6            7   Markéta  26.0  Brno  49000.0   True\n",
              "11          12     Filip  31.0  Brno      NaN   True\n",
              "16          17    Zdeněk  41.0  Brno  74000.0   True\n",
              "21          22     Pavel  39.0  Brno  70000.0   True\n",
              "27          28  Veronika  31.0  Brno  60000.0    NaN\n",
              "33          34  Kateřina  32.0  Brno  52000.0   True\n",
              "38          39   Antonín  29.0  Brno  54000.0   True\n",
              "43          44     Karol  27.0  Brno  48000.0    NaN\n",
              "50          51   Vojtěch  32.0  Brno  58000.0   True\n",
              "54          55      Alex  31.0  Brno  52000.0    NaN\n",
              "58          59     Radim  35.0  Brno  61000.0    NaN\n",
              "63          64     Ivana  40.0  Brno  68000.0   True\n",
              "69          70     Lenka  34.0  Brno  54000.0   True\n",
              "75          76      Adam  40.0  Brno  70000.0    NaN\n",
              "79          80    Tadeáš  34.0  Brno  62000.0   True\n",
              "82          83     Jonáš  32.0  Brno  58000.0   True\n",
              "88          89      Oleg  30.0  Brno  52000.0   True"
            ]
          },
          "execution_count": 134,
          "metadata": {},
          "output_type": "execute_result"
        }
      ],
      "source": [
        "df_people.groupby(\"City\", observed=True).filter(lambda x: x[\"Age\"].mean() > 32) # Filtrování skupin"
      ]
    },
    {
      "cell_type": "code",
      "execution_count": 135,
      "metadata": {
        "id": "fUJOKE31p0jg"
      },
      "outputs": [
        {
          "data": {
            "text/plain": [
              "Age\n",
              "22.0    1\n",
              "23.0    4\n",
              "24.0    5\n",
              "25.0    5\n",
              "26.0    4\n",
              "27.0    7\n",
              "28.0    7\n",
              "29.0    5\n",
              "30.0    8\n",
              "31.0    4\n",
              "32.0    5\n",
              "33.0    5\n",
              "34.0    5\n",
              "35.0    4\n",
              "36.0    5\n",
              "37.0    3\n",
              "38.0    3\n",
              "39.0    3\n",
              "40.0    5\n",
              "41.0    4\n",
              "dtype: int64"
            ]
          },
          "execution_count": 135,
          "metadata": {},
          "output_type": "execute_result"
        }
      ],
      "source": [
        "df_people.groupby([\"Age\"]).size() # Počet záznamů ve skupinách"
      ]
    },
    {
      "cell_type": "markdown",
      "metadata": {
        "id": "HNRilCmHlf8s"
      },
      "source": [
        "- Statistika: mean(), median(), sum(), count().\n",
        "- Práce s chybějícími hodnotami: isnull(), fillna(), dropna()."
      ]
    }
  ],
  "metadata": {
    "colab": {
      "provenance": [],
      "toc_visible": true
    },
    "kernelspec": {
      "display_name": "venv",
      "language": "python",
      "name": "python3"
    },
    "language_info": {
      "codemirror_mode": {
        "name": "ipython",
        "version": 3
      },
      "file_extension": ".py",
      "mimetype": "text/x-python",
      "name": "python",
      "nbconvert_exporter": "python",
      "pygments_lexer": "ipython3",
      "version": "3.11.1"
    }
  },
  "nbformat": 4,
  "nbformat_minor": 0
}
