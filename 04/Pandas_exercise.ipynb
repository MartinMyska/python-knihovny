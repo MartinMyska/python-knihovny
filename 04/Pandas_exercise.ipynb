{
  "cells": [
    {
      "cell_type": "markdown",
      "metadata": {
        "id": "cR5VX3Q-dZuV"
      },
      "source": [
        " # Pandas - cvičení"
      ]
    },
    {
      "cell_type": "markdown",
      "metadata": {
        "id": "WYQU7zowdctI"
      },
      "source": [
        "## Příprava cvičení"
      ]
    },
    {
      "cell_type": "markdown",
      "metadata": {
        "id": "gc0L49SodsgY"
      },
      "source": [
        " - pro potřeby cvičení si spusť následující kód:"
      ]
    },
    {
      "cell_type": "code",
      "execution_count": null,
      "metadata": {
        "id": "RhEEIiSsePIe"
      },
      "outputs": [],
      "source": [
        "%pip install faker"
      ]
    },
    {
      "cell_type": "code",
      "execution_count": 3,
      "metadata": {
        "id": "UWbJbtSudgTs"
      },
      "outputs": [
        {
          "data": {
            "text/plain": [
              "'Soubor připraven!'"
            ]
          },
          "metadata": {},
          "output_type": "display_data"
        }
      ],
      "source": [
        "import pandas as pd\n",
        "import random\n",
        "from faker import Faker\n",
        "\n",
        "fake = Faker(\"cs_CZ\")  # Generátor náhodných dat v češtině\n",
        "Faker.seed(42)\n",
        "\n",
        "# Generování 1000 řádků dat\n",
        "data = []\n",
        "for i in range(1, 1001):\n",
        "    jmeno = fake.name()\n",
        "    vek = random.randint(22, 60)\n",
        "    mesto = fake.city()\n",
        "    plat = random.randint(40000, 80000)\n",
        "    pozice = random.choice(\n",
        "        [\"Analytik\", \"Manažer\", \"Konzultant\", \"Specialista\", \"Asistent\", \"Ředitel\", \"Technik\", \"Koordinátor\",\n",
        "         \"Projektový manažer\"])\n",
        "    oddeleni = random.choice(\n",
        "        [\"IT\", \"HR\", \"Prodej\", \"Marketing\", \"Podpora\", \"Stavba\", \"Administrativa\", \"Finanční\", \"Výroba\", \"Kvalita\"])\n",
        "    telefon = fake.random_number(digits=9, fix_len=True)\n",
        "    email = fake.email()\n",
        "    datum_nastupu = fake.date_between(start_date=\"-8y\", end_date=\"today\").strftime(\"%Y-%m-%d\")\n",
        "    data.append([i, jmeno, vek, mesto, plat, pozice, oddeleni, telefon, email, datum_nastupu])\n",
        "\n",
        "# Vytvoření DataFrame\n",
        "columns = [\"Osobní číslo\", \"Jméno\", \"Věk\", \"Město\", \"Plat\", \"Pozice\", \"Oddělení\", \"Telefon\", \"Email\", \"Datum nástupu\"]\n",
        "df = pd.DataFrame(data, columns=columns)\n",
        "\n",
        "# Uložení do CSV\n",
        "df.to_csv(\"pracovnici.csv\", index=False, encoding=\"utf-8\")\n",
        "display('Soubor připraven!')"
      ]
    },
    {
      "cell_type": "markdown",
      "metadata": {
        "id": "S3buCBkKfWgB"
      },
      "source": [
        "## Import Pandas"
      ]
    },
    {
      "cell_type": "markdown",
      "metadata": {
        "id": "U4GM86kUfdyq"
      },
      "source": [
        " - Pandas už sice bude importován, protože jsme ho využili k vytvoření souboru, ale opakování, matka moudrosti, takže ho naimportuj znovu :)"
      ]
    },
    {
      "cell_type": "code",
      "execution_count": 4,
      "metadata": {
        "id": "dvidbH4AfWsW"
      },
      "outputs": [],
      "source": [
        "import pandas as pd"
      ]
    },
    {
      "cell_type": "markdown",
      "metadata": {
        "id": "M8QCBUcYe2vE"
      },
      "source": [
        "## Načtení souboru"
      ]
    },
    {
      "cell_type": "markdown",
      "metadata": {
        "id": "8yCW3Qsxe6iK"
      },
      "source": [
        " - pak je potřeba načíst data z CSV souboru, ať s nimi můžeme pracovat"
      ]
    },
    {
      "cell_type": "code",
      "execution_count": 8,
      "metadata": {
        "id": "GwvgqEgae681"
      },
      "outputs": [],
      "source": [
        "df_workers = pd.read_csv('pracovnici.csv')"
      ]
    },
    {
      "cell_type": "markdown",
      "metadata": {
        "id": "XzMopqfbwRFs"
      },
      "source": [
        " - mrkni se na několik řádků z dat"
      ]
    },
    {
      "cell_type": "code",
      "execution_count": 9,
      "metadata": {
        "id": "3kP1Z8tvwQrM"
      },
      "outputs": [
        {
          "data": {
            "text/html": [
              "<div>\n",
              "<style scoped>\n",
              "    .dataframe tbody tr th:only-of-type {\n",
              "        vertical-align: middle;\n",
              "    }\n",
              "\n",
              "    .dataframe tbody tr th {\n",
              "        vertical-align: top;\n",
              "    }\n",
              "\n",
              "    .dataframe thead th {\n",
              "        text-align: right;\n",
              "    }\n",
              "</style>\n",
              "<table border=\"1\" class=\"dataframe\">\n",
              "  <thead>\n",
              "    <tr style=\"text-align: right;\">\n",
              "      <th></th>\n",
              "      <th>Osobní číslo</th>\n",
              "      <th>Jméno</th>\n",
              "      <th>Věk</th>\n",
              "      <th>Město</th>\n",
              "      <th>Plat</th>\n",
              "      <th>Pozice</th>\n",
              "      <th>Oddělení</th>\n",
              "      <th>Telefon</th>\n",
              "      <th>Email</th>\n",
              "      <th>Datum nástupu</th>\n",
              "    </tr>\n",
              "  </thead>\n",
              "  <tbody>\n",
              "    <tr>\n",
              "      <th>0</th>\n",
              "      <td>1</td>\n",
              "      <td>Anastázie Vávrová</td>\n",
              "      <td>54</td>\n",
              "      <td>Hulín</td>\n",
              "      <td>69129</td>\n",
              "      <td>Ředitel</td>\n",
              "      <td>Podpora</td>\n",
              "      <td>339670711</td>\n",
              "      <td>vavradusan@example.net</td>\n",
              "      <td>2023-02-11</td>\n",
              "    </tr>\n",
              "    <tr>\n",
              "      <th>1</th>\n",
              "      <td>2</td>\n",
              "      <td>Renáta Beránková</td>\n",
              "      <td>50</td>\n",
              "      <td>Chotěboř</td>\n",
              "      <td>60898</td>\n",
              "      <td>Specialista</td>\n",
              "      <td>Podpora</td>\n",
              "      <td>334760738</td>\n",
              "      <td>pokornyantonin@example.net</td>\n",
              "      <td>2018-10-12</td>\n",
              "    </tr>\n",
              "    <tr>\n",
              "      <th>2</th>\n",
              "      <td>3</td>\n",
              "      <td>Žofie Matějková</td>\n",
              "      <td>52</td>\n",
              "      <td>Milevsko</td>\n",
              "      <td>47396</td>\n",
              "      <td>Ředitel</td>\n",
              "      <td>Marketing</td>\n",
              "      <td>732719211</td>\n",
              "      <td>agatavlckova@example.org</td>\n",
              "      <td>2022-10-09</td>\n",
              "    </tr>\n",
              "    <tr>\n",
              "      <th>3</th>\n",
              "      <td>4</td>\n",
              "      <td>Ivan Hrubý</td>\n",
              "      <td>58</td>\n",
              "      <td>Chyše</td>\n",
              "      <td>46124</td>\n",
              "      <td>Konzultant</td>\n",
              "      <td>HR</td>\n",
              "      <td>199585092</td>\n",
              "      <td>jozef55@example.net</td>\n",
              "      <td>2019-04-21</td>\n",
              "    </tr>\n",
              "    <tr>\n",
              "      <th>4</th>\n",
              "      <td>5</td>\n",
              "      <td>Vojtěch Prokop</td>\n",
              "      <td>49</td>\n",
              "      <td>České Budějovice</td>\n",
              "      <td>43752</td>\n",
              "      <td>Koordinátor</td>\n",
              "      <td>Administrativa</td>\n",
              "      <td>506448196</td>\n",
              "      <td>ruzickovalydie@example.net</td>\n",
              "      <td>2022-02-19</td>\n",
              "    </tr>\n",
              "  </tbody>\n",
              "</table>\n",
              "</div>"
            ],
            "text/plain": [
              "   Osobní číslo              Jméno  Věk             Město   Plat       Pozice  \\\n",
              "0             1  Anastázie Vávrová   54             Hulín  69129      Ředitel   \n",
              "1             2   Renáta Beránková   50          Chotěboř  60898  Specialista   \n",
              "2             3    Žofie Matějková   52          Milevsko  47396      Ředitel   \n",
              "3             4         Ivan Hrubý   58             Chyše  46124   Konzultant   \n",
              "4             5     Vojtěch Prokop   49  České Budějovice  43752  Koordinátor   \n",
              "\n",
              "         Oddělení    Telefon                       Email Datum nástupu  \n",
              "0         Podpora  339670711      vavradusan@example.net    2023-02-11  \n",
              "1         Podpora  334760738  pokornyantonin@example.net    2018-10-12  \n",
              "2       Marketing  732719211    agatavlckova@example.org    2022-10-09  \n",
              "3              HR  199585092         jozef55@example.net    2019-04-21  \n",
              "4  Administrativa  506448196  ruzickovalydie@example.net    2022-02-19  "
            ]
          },
          "execution_count": 9,
          "metadata": {},
          "output_type": "execute_result"
        }
      ],
      "source": [
        "df_workers.head()"
      ]
    },
    {
      "cell_type": "markdown",
      "metadata": {
        "id": "bgQlz2ctwYoF"
      },
      "source": [
        " - koukni na informace o sloupcích"
      ]
    },
    {
      "cell_type": "code",
      "execution_count": 16,
      "metadata": {
        "id": "t0TwkN2SwZRM"
      },
      "outputs": [
        {
          "name": "stdout",
          "output_type": "stream",
          "text": [
            "<class 'pandas.core.frame.DataFrame'>\n",
            "RangeIndex: 1000 entries, 0 to 999\n",
            "Data columns (total 10 columns):\n",
            " #   Column         Non-Null Count  Dtype \n",
            "---  ------         --------------  ----- \n",
            " 0   Osobní číslo   1000 non-null   int64 \n",
            " 1   Jméno          1000 non-null   object\n",
            " 2   Věk            1000 non-null   int64 \n",
            " 3   Město          1000 non-null   object\n",
            " 4   Plat           1000 non-null   int64 \n",
            " 5   Pozice         1000 non-null   object\n",
            " 6   Oddělení       1000 non-null   object\n",
            " 7   Telefon        1000 non-null   int64 \n",
            " 8   Email          1000 non-null   object\n",
            " 9   Datum nástupu  1000 non-null   object\n",
            "dtypes: int64(4), object(6)\n",
            "memory usage: 78.2+ KB\n"
          ]
        }
      ],
      "source": [
        "df_workers.info()"
      ]
    },
    {
      "cell_type": "markdown",
      "metadata": {
        "id": "SXyd0hNPwcjF"
      },
      "source": [
        " - koukni na základní statistické údaje"
      ]
    },
    {
      "cell_type": "code",
      "execution_count": 27,
      "metadata": {
        "id": "C49JKe3-wc5g"
      },
      "outputs": [
        {
          "data": {
            "text/plain": [
              "count      1000\n",
              "unique      425\n",
              "top       Plzeň\n",
              "freq          7\n",
              "Name: Město, dtype: object"
            ]
          },
          "execution_count": 27,
          "metadata": {},
          "output_type": "execute_result"
        }
      ],
      "source": [
        "df_workers['Město'].describe()"
      ]
    },
    {
      "cell_type": "code",
      "execution_count": 30,
      "metadata": {},
      "outputs": [
        {
          "data": {
            "text/plain": [
              "count    1000.000000\n",
              "mean       41.527000\n",
              "std        11.089556\n",
              "min        22.000000\n",
              "25%        32.000000\n",
              "50%        42.000000\n",
              "75%        51.000000\n",
              "max        60.000000\n",
              "Name: Věk, dtype: float64"
            ]
          },
          "execution_count": 30,
          "metadata": {},
          "output_type": "execute_result"
        }
      ],
      "source": [
        "df_workers['Věk'].describe()"
      ]
    },
    {
      "cell_type": "markdown",
      "metadata": {
        "id": "2VWXy110ygV7"
      },
      "source": [
        "- a dál už podle lektora :)"
      ]
    },
    {
      "cell_type": "code",
      "execution_count": 31,
      "metadata": {
        "id": "lOQ3XU6TymH-"
      },
      "outputs": [],
      "source": [
        "df_workers['Osobní číslo'] = df_workers['Osobní číslo'].astype('object')\n",
        "df_workers['Telefon'] = df_workers['Telefon'].astype('object')"
      ]
    },
    {
      "cell_type": "code",
      "execution_count": 34,
      "metadata": {},
      "outputs": [
        {
          "data": {
            "text/html": [
              "<div>\n",
              "<style scoped>\n",
              "    .dataframe tbody tr th:only-of-type {\n",
              "        vertical-align: middle;\n",
              "    }\n",
              "\n",
              "    .dataframe tbody tr th {\n",
              "        vertical-align: top;\n",
              "    }\n",
              "\n",
              "    .dataframe thead th {\n",
              "        text-align: right;\n",
              "    }\n",
              "</style>\n",
              "<table border=\"1\" class=\"dataframe\">\n",
              "  <thead>\n",
              "    <tr style=\"text-align: right;\">\n",
              "      <th></th>\n",
              "      <th>Osobní číslo</th>\n",
              "      <th>Jméno</th>\n",
              "      <th>Věk</th>\n",
              "      <th>Město</th>\n",
              "      <th>Plat</th>\n",
              "      <th>Pozice</th>\n",
              "      <th>Oddělení</th>\n",
              "      <th>Telefon</th>\n",
              "      <th>Email</th>\n",
              "      <th>Datum nástupu</th>\n",
              "    </tr>\n",
              "  </thead>\n",
              "  <tbody>\n",
              "    <tr>\n",
              "      <th>count</th>\n",
              "      <td>1000.0</td>\n",
              "      <td>1000</td>\n",
              "      <td>1000.000000</td>\n",
              "      <td>1000</td>\n",
              "      <td>1000.00000</td>\n",
              "      <td>1000</td>\n",
              "      <td>1000</td>\n",
              "      <td>1000.0</td>\n",
              "      <td>1000</td>\n",
              "      <td>1000</td>\n",
              "    </tr>\n",
              "    <tr>\n",
              "      <th>unique</th>\n",
              "      <td>1000.0</td>\n",
              "      <td>978</td>\n",
              "      <td>NaN</td>\n",
              "      <td>425</td>\n",
              "      <td>NaN</td>\n",
              "      <td>9</td>\n",
              "      <td>10</td>\n",
              "      <td>1000.0</td>\n",
              "      <td>994</td>\n",
              "      <td>855</td>\n",
              "    </tr>\n",
              "    <tr>\n",
              "      <th>top</th>\n",
              "      <td>1.0</td>\n",
              "      <td>Jiřina Němečková</td>\n",
              "      <td>NaN</td>\n",
              "      <td>Plzeň</td>\n",
              "      <td>NaN</td>\n",
              "      <td>Ředitel</td>\n",
              "      <td>Podpora</td>\n",
              "      <td>339670711.0</td>\n",
              "      <td>dhorakova@example.com</td>\n",
              "      <td>2021-06-17</td>\n",
              "    </tr>\n",
              "    <tr>\n",
              "      <th>freq</th>\n",
              "      <td>1.0</td>\n",
              "      <td>2</td>\n",
              "      <td>NaN</td>\n",
              "      <td>7</td>\n",
              "      <td>NaN</td>\n",
              "      <td>134</td>\n",
              "      <td>109</td>\n",
              "      <td>1.0</td>\n",
              "      <td>2</td>\n",
              "      <td>4</td>\n",
              "    </tr>\n",
              "    <tr>\n",
              "      <th>mean</th>\n",
              "      <td>NaN</td>\n",
              "      <td>NaN</td>\n",
              "      <td>41.527000</td>\n",
              "      <td>NaN</td>\n",
              "      <td>59903.68000</td>\n",
              "      <td>NaN</td>\n",
              "      <td>NaN</td>\n",
              "      <td>NaN</td>\n",
              "      <td>NaN</td>\n",
              "      <td>NaN</td>\n",
              "    </tr>\n",
              "    <tr>\n",
              "      <th>std</th>\n",
              "      <td>NaN</td>\n",
              "      <td>NaN</td>\n",
              "      <td>11.089556</td>\n",
              "      <td>NaN</td>\n",
              "      <td>11807.44812</td>\n",
              "      <td>NaN</td>\n",
              "      <td>NaN</td>\n",
              "      <td>NaN</td>\n",
              "      <td>NaN</td>\n",
              "      <td>NaN</td>\n",
              "    </tr>\n",
              "    <tr>\n",
              "      <th>min</th>\n",
              "      <td>NaN</td>\n",
              "      <td>NaN</td>\n",
              "      <td>22.000000</td>\n",
              "      <td>NaN</td>\n",
              "      <td>40041.00000</td>\n",
              "      <td>NaN</td>\n",
              "      <td>NaN</td>\n",
              "      <td>NaN</td>\n",
              "      <td>NaN</td>\n",
              "      <td>NaN</td>\n",
              "    </tr>\n",
              "    <tr>\n",
              "      <th>25%</th>\n",
              "      <td>NaN</td>\n",
              "      <td>NaN</td>\n",
              "      <td>32.000000</td>\n",
              "      <td>NaN</td>\n",
              "      <td>49142.25000</td>\n",
              "      <td>NaN</td>\n",
              "      <td>NaN</td>\n",
              "      <td>NaN</td>\n",
              "      <td>NaN</td>\n",
              "      <td>NaN</td>\n",
              "    </tr>\n",
              "    <tr>\n",
              "      <th>50%</th>\n",
              "      <td>NaN</td>\n",
              "      <td>NaN</td>\n",
              "      <td>42.000000</td>\n",
              "      <td>NaN</td>\n",
              "      <td>60122.50000</td>\n",
              "      <td>NaN</td>\n",
              "      <td>NaN</td>\n",
              "      <td>NaN</td>\n",
              "      <td>NaN</td>\n",
              "      <td>NaN</td>\n",
              "    </tr>\n",
              "    <tr>\n",
              "      <th>75%</th>\n",
              "      <td>NaN</td>\n",
              "      <td>NaN</td>\n",
              "      <td>51.000000</td>\n",
              "      <td>NaN</td>\n",
              "      <td>70425.00000</td>\n",
              "      <td>NaN</td>\n",
              "      <td>NaN</td>\n",
              "      <td>NaN</td>\n",
              "      <td>NaN</td>\n",
              "      <td>NaN</td>\n",
              "    </tr>\n",
              "    <tr>\n",
              "      <th>max</th>\n",
              "      <td>NaN</td>\n",
              "      <td>NaN</td>\n",
              "      <td>60.000000</td>\n",
              "      <td>NaN</td>\n",
              "      <td>79991.00000</td>\n",
              "      <td>NaN</td>\n",
              "      <td>NaN</td>\n",
              "      <td>NaN</td>\n",
              "      <td>NaN</td>\n",
              "      <td>NaN</td>\n",
              "    </tr>\n",
              "  </tbody>\n",
              "</table>\n",
              "</div>"
            ],
            "text/plain": [
              "        Osobní číslo             Jméno          Věk  Město         Plat  \\\n",
              "count         1000.0              1000  1000.000000   1000   1000.00000   \n",
              "unique        1000.0               978          NaN    425          NaN   \n",
              "top              1.0  Jiřina Němečková          NaN  Plzeň          NaN   \n",
              "freq             1.0                 2          NaN      7          NaN   \n",
              "mean             NaN               NaN    41.527000    NaN  59903.68000   \n",
              "std              NaN               NaN    11.089556    NaN  11807.44812   \n",
              "min              NaN               NaN    22.000000    NaN  40041.00000   \n",
              "25%              NaN               NaN    32.000000    NaN  49142.25000   \n",
              "50%              NaN               NaN    42.000000    NaN  60122.50000   \n",
              "75%              NaN               NaN    51.000000    NaN  70425.00000   \n",
              "max              NaN               NaN    60.000000    NaN  79991.00000   \n",
              "\n",
              "         Pozice Oddělení      Telefon                  Email Datum nástupu  \n",
              "count      1000     1000       1000.0                   1000          1000  \n",
              "unique        9       10       1000.0                    994           855  \n",
              "top     Ředitel  Podpora  339670711.0  dhorakova@example.com    2021-06-17  \n",
              "freq        134      109          1.0                      2             4  \n",
              "mean        NaN      NaN          NaN                    NaN           NaN  \n",
              "std         NaN      NaN          NaN                    NaN           NaN  \n",
              "min         NaN      NaN          NaN                    NaN           NaN  \n",
              "25%         NaN      NaN          NaN                    NaN           NaN  \n",
              "50%         NaN      NaN          NaN                    NaN           NaN  \n",
              "75%         NaN      NaN          NaN                    NaN           NaN  \n",
              "max         NaN      NaN          NaN                    NaN           NaN  "
            ]
          },
          "execution_count": 34,
          "metadata": {},
          "output_type": "execute_result"
        }
      ],
      "source": [
        "df_workers.describe(include='all')"
      ]
    },
    {
      "cell_type": "code",
      "execution_count": 36,
      "metadata": {},
      "outputs": [
        {
          "data": {
            "text/plain": [
              "Pozice\n",
              "Analytik              59267.603448\n",
              "Asistent              60297.400000\n",
              "Konzultant            62387.466667\n",
              "Koordinátor           58241.406250\n",
              "Manažer               61773.297030\n",
              "Projektový manažer    57489.816514\n",
              "Specialista           60885.508772\n",
              "Technik               59964.190909\n",
              "Ředitel               58796.455224\n",
              "Name: Plat, dtype: float64"
            ]
          },
          "execution_count": 36,
          "metadata": {},
          "output_type": "execute_result"
        }
      ],
      "source": [
        "df_workers.groupby('Pozice', observed=True)['Plat'].mean()"
      ]
    },
    {
      "cell_type": "code",
      "execution_count": 44,
      "metadata": {},
      "outputs": [
        {
          "data": {
            "text/html": [
              "<div>\n",
              "<style scoped>\n",
              "    .dataframe tbody tr th:only-of-type {\n",
              "        vertical-align: middle;\n",
              "    }\n",
              "\n",
              "    .dataframe tbody tr th {\n",
              "        vertical-align: top;\n",
              "    }\n",
              "\n",
              "    .dataframe thead tr th {\n",
              "        text-align: left;\n",
              "    }\n",
              "\n",
              "    .dataframe thead tr:last-of-type th {\n",
              "        text-align: right;\n",
              "    }\n",
              "</style>\n",
              "<table border=\"1\" class=\"dataframe\">\n",
              "  <thead>\n",
              "    <tr>\n",
              "      <th></th>\n",
              "      <th></th>\n",
              "      <th colspan=\"3\" halign=\"left\">Plat</th>\n",
              "    </tr>\n",
              "    <tr>\n",
              "      <th></th>\n",
              "      <th></th>\n",
              "      <th>mean</th>\n",
              "      <th>max</th>\n",
              "      <th>min</th>\n",
              "    </tr>\n",
              "    <tr>\n",
              "      <th>Pozice</th>\n",
              "      <th>Město</th>\n",
              "      <th></th>\n",
              "      <th></th>\n",
              "      <th></th>\n",
              "    </tr>\n",
              "  </thead>\n",
              "  <tbody>\n",
              "    <tr>\n",
              "      <th rowspan=\"5\" valign=\"top\">Analytik</th>\n",
              "      <th>Abertamy</th>\n",
              "      <td>59180.000000</td>\n",
              "      <td>59180</td>\n",
              "      <td>59180</td>\n",
              "    </tr>\n",
              "    <tr>\n",
              "      <th>Bavorov</th>\n",
              "      <td>46451.000000</td>\n",
              "      <td>46451</td>\n",
              "      <td>46451</td>\n",
              "    </tr>\n",
              "    <tr>\n",
              "      <th>Bor</th>\n",
              "      <td>46977.000000</td>\n",
              "      <td>46977</td>\n",
              "      <td>46977</td>\n",
              "    </tr>\n",
              "    <tr>\n",
              "      <th>Boží Dar</th>\n",
              "      <td>61878.333333</td>\n",
              "      <td>74869</td>\n",
              "      <td>52509</td>\n",
              "    </tr>\n",
              "    <tr>\n",
              "      <th>Brumov-Bylnice</th>\n",
              "      <td>58132.000000</td>\n",
              "      <td>58132</td>\n",
              "      <td>58132</td>\n",
              "    </tr>\n",
              "    <tr>\n",
              "      <th>...</th>\n",
              "      <th>...</th>\n",
              "      <td>...</td>\n",
              "      <td>...</td>\n",
              "      <td>...</td>\n",
              "    </tr>\n",
              "    <tr>\n",
              "      <th rowspan=\"5\" valign=\"top\">Ředitel</th>\n",
              "      <th>Červený Kostelec</th>\n",
              "      <td>75724.000000</td>\n",
              "      <td>75724</td>\n",
              "      <td>75724</td>\n",
              "    </tr>\n",
              "    <tr>\n",
              "      <th>Šlapanice</th>\n",
              "      <td>70317.500000</td>\n",
              "      <td>74802</td>\n",
              "      <td>65833</td>\n",
              "    </tr>\n",
              "    <tr>\n",
              "      <th>Štětí</th>\n",
              "      <td>41060.000000</td>\n",
              "      <td>41060</td>\n",
              "      <td>41060</td>\n",
              "    </tr>\n",
              "    <tr>\n",
              "      <th>Švihov</th>\n",
              "      <td>41821.000000</td>\n",
              "      <td>41821</td>\n",
              "      <td>41821</td>\n",
              "    </tr>\n",
              "    <tr>\n",
              "      <th>Žlutice</th>\n",
              "      <td>67391.000000</td>\n",
              "      <td>67391</td>\n",
              "      <td>67391</td>\n",
              "    </tr>\n",
              "  </tbody>\n",
              "</table>\n",
              "<p>895 rows × 3 columns</p>\n",
              "</div>"
            ],
            "text/plain": [
              "                                   Plat              \n",
              "                                   mean    max    min\n",
              "Pozice   Město                                       \n",
              "Analytik Abertamy          59180.000000  59180  59180\n",
              "         Bavorov           46451.000000  46451  46451\n",
              "         Bor               46977.000000  46977  46977\n",
              "         Boží Dar          61878.333333  74869  52509\n",
              "         Brumov-Bylnice    58132.000000  58132  58132\n",
              "...                                 ...    ...    ...\n",
              "Ředitel  Červený Kostelec  75724.000000  75724  75724\n",
              "         Šlapanice         70317.500000  74802  65833\n",
              "         Štětí             41060.000000  41060  41060\n",
              "         Švihov            41821.000000  41821  41821\n",
              "         Žlutice           67391.000000  67391  67391\n",
              "\n",
              "[895 rows x 3 columns]"
            ]
          },
          "execution_count": 44,
          "metadata": {},
          "output_type": "execute_result"
        }
      ],
      "source": [
        "df_workers.groupby(['Pozice', 'Město'], observed=True).agg({\"Plat\": ['mean', 'max', 'min']})"
      ]
    }
  ],
  "metadata": {
    "colab": {
      "provenance": []
    },
    "kernelspec": {
      "display_name": "venv",
      "language": "python",
      "name": "python3"
    },
    "language_info": {
      "codemirror_mode": {
        "name": "ipython",
        "version": 3
      },
      "file_extension": ".py",
      "mimetype": "text/x-python",
      "name": "python",
      "nbconvert_exporter": "python",
      "pygments_lexer": "ipython3",
      "version": "3.11.1"
    }
  },
  "nbformat": 4,
  "nbformat_minor": 0
}
